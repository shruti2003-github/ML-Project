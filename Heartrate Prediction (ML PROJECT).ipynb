{
 "cells": [
  {
   "cell_type": "markdown",
   "id": "6eb5a6ec",
   "metadata": {},
   "source": [
    "# ML CASESTUDY : HEALTH AND LIFESTYLE OF PROFESSIONALS"
   ]
  },
  {
   "cell_type": "code",
   "execution_count": 3,
   "id": "cac336c9",
   "metadata": {},
   "outputs": [
    {
     "name": "stdout",
     "output_type": "stream",
     "text": [
      "*****************************************************************************************************************************\n",
      " \t\t\t\t************** DATASET:- NUTRITIONAL VALUE DATASET ***************\n",
      "\n",
      "INTRODUCTION :- In this project, we use machine learning to predict heart rate based on other variables from a dataset of 374 individuals. We compare different algorithms and features, and present our results and insights. Our project can help improve the health and well-being of people by monitoring and improving their heart rate.\n",
      "*****************************************************************************************************************************\n"
     ]
    }
   ],
   "source": [
    "print((\"*\")*125)\n",
    "print(\" \\t\\t\\t\\t************** DATASET:- NUTRITIONAL VALUE DATASET ***************\\n\\nINTRODUCTION :- In this project, we use machine learning to predict heart rate based on other variables from a dataset of 374 individuals. We compare different algorithms and features, and present our results and insights. Our project can help improve the health and well-being of people by monitoring and improving their heart rate.\")\n",
    "print((\"*\")*125)"
   ]
  },
  {
   "cell_type": "markdown",
   "id": "1509c98f",
   "metadata": {},
   "source": [
    "## IMPORTING LIBRARIES"
   ]
  },
  {
   "cell_type": "code",
   "execution_count": 4,
   "id": "c90f0362",
   "metadata": {},
   "outputs": [],
   "source": [
    "import pandas as pd\n",
    "import numpy as np\n",
    "import seaborn as sns\n",
    "import matplotlib.pyplot as plt\n",
    "%matplotlib inline\n",
    "import warnings\n",
    "warnings.filterwarnings(\"ignore\")"
   ]
  },
  {
   "cell_type": "code",
   "execution_count": 5,
   "id": "62204145",
   "metadata": {
    "scrolled": true
   },
   "outputs": [
    {
     "data": {
      "text/html": [
       "<div>\n",
       "<style scoped>\n",
       "    .dataframe tbody tr th:only-of-type {\n",
       "        vertical-align: middle;\n",
       "    }\n",
       "\n",
       "    .dataframe tbody tr th {\n",
       "        vertical-align: top;\n",
       "    }\n",
       "\n",
       "    .dataframe thead th {\n",
       "        text-align: right;\n",
       "    }\n",
       "</style>\n",
       "<table border=\"1\" class=\"dataframe\">\n",
       "  <thead>\n",
       "    <tr style=\"text-align: right;\">\n",
       "      <th></th>\n",
       "      <th>Person ID</th>\n",
       "      <th>Gender</th>\n",
       "      <th>Age</th>\n",
       "      <th>Occupation</th>\n",
       "      <th>Sleep Duration</th>\n",
       "      <th>Quality of Sleep</th>\n",
       "      <th>Physical Activity Level</th>\n",
       "      <th>Stress Level</th>\n",
       "      <th>BMI Category</th>\n",
       "      <th>Blood Pressure</th>\n",
       "      <th>Heart Rate</th>\n",
       "      <th>Daily Steps</th>\n",
       "      <th>Sleep Disorder</th>\n",
       "    </tr>\n",
       "  </thead>\n",
       "  <tbody>\n",
       "    <tr>\n",
       "      <th>0</th>\n",
       "      <td>1</td>\n",
       "      <td>Male</td>\n",
       "      <td>27</td>\n",
       "      <td>Software Engineer</td>\n",
       "      <td>6.1</td>\n",
       "      <td>6</td>\n",
       "      <td>42</td>\n",
       "      <td>6</td>\n",
       "      <td>Overweight</td>\n",
       "      <td>126/83</td>\n",
       "      <td>77</td>\n",
       "      <td>4200</td>\n",
       "      <td>None</td>\n",
       "    </tr>\n",
       "    <tr>\n",
       "      <th>1</th>\n",
       "      <td>2</td>\n",
       "      <td>Male</td>\n",
       "      <td>28</td>\n",
       "      <td>Doctor</td>\n",
       "      <td>6.2</td>\n",
       "      <td>6</td>\n",
       "      <td>60</td>\n",
       "      <td>8</td>\n",
       "      <td>Normal</td>\n",
       "      <td>125/80</td>\n",
       "      <td>75</td>\n",
       "      <td>10000</td>\n",
       "      <td>None</td>\n",
       "    </tr>\n",
       "    <tr>\n",
       "      <th>2</th>\n",
       "      <td>3</td>\n",
       "      <td>Male</td>\n",
       "      <td>28</td>\n",
       "      <td>Doctor</td>\n",
       "      <td>6.2</td>\n",
       "      <td>6</td>\n",
       "      <td>60</td>\n",
       "      <td>8</td>\n",
       "      <td>Normal</td>\n",
       "      <td>125/80</td>\n",
       "      <td>75</td>\n",
       "      <td>10000</td>\n",
       "      <td>None</td>\n",
       "    </tr>\n",
       "    <tr>\n",
       "      <th>3</th>\n",
       "      <td>4</td>\n",
       "      <td>Male</td>\n",
       "      <td>28</td>\n",
       "      <td>Sales Representative</td>\n",
       "      <td>5.9</td>\n",
       "      <td>4</td>\n",
       "      <td>30</td>\n",
       "      <td>8</td>\n",
       "      <td>Obese</td>\n",
       "      <td>140/90</td>\n",
       "      <td>85</td>\n",
       "      <td>3000</td>\n",
       "      <td>Sleep Apnea</td>\n",
       "    </tr>\n",
       "    <tr>\n",
       "      <th>4</th>\n",
       "      <td>5</td>\n",
       "      <td>Male</td>\n",
       "      <td>28</td>\n",
       "      <td>Sales Representative</td>\n",
       "      <td>5.9</td>\n",
       "      <td>4</td>\n",
       "      <td>30</td>\n",
       "      <td>8</td>\n",
       "      <td>Obese</td>\n",
       "      <td>140/90</td>\n",
       "      <td>85</td>\n",
       "      <td>3000</td>\n",
       "      <td>Sleep Apnea</td>\n",
       "    </tr>\n",
       "    <tr>\n",
       "      <th>...</th>\n",
       "      <td>...</td>\n",
       "      <td>...</td>\n",
       "      <td>...</td>\n",
       "      <td>...</td>\n",
       "      <td>...</td>\n",
       "      <td>...</td>\n",
       "      <td>...</td>\n",
       "      <td>...</td>\n",
       "      <td>...</td>\n",
       "      <td>...</td>\n",
       "      <td>...</td>\n",
       "      <td>...</td>\n",
       "      <td>...</td>\n",
       "    </tr>\n",
       "    <tr>\n",
       "      <th>369</th>\n",
       "      <td>370</td>\n",
       "      <td>Female</td>\n",
       "      <td>59</td>\n",
       "      <td>Nurse</td>\n",
       "      <td>8.1</td>\n",
       "      <td>9</td>\n",
       "      <td>75</td>\n",
       "      <td>3</td>\n",
       "      <td>Overweight</td>\n",
       "      <td>140/95</td>\n",
       "      <td>68</td>\n",
       "      <td>7000</td>\n",
       "      <td>Sleep Apnea</td>\n",
       "    </tr>\n",
       "    <tr>\n",
       "      <th>370</th>\n",
       "      <td>371</td>\n",
       "      <td>Female</td>\n",
       "      <td>59</td>\n",
       "      <td>Nurse</td>\n",
       "      <td>8.0</td>\n",
       "      <td>9</td>\n",
       "      <td>75</td>\n",
       "      <td>3</td>\n",
       "      <td>Overweight</td>\n",
       "      <td>140/95</td>\n",
       "      <td>68</td>\n",
       "      <td>7000</td>\n",
       "      <td>Sleep Apnea</td>\n",
       "    </tr>\n",
       "    <tr>\n",
       "      <th>371</th>\n",
       "      <td>372</td>\n",
       "      <td>Female</td>\n",
       "      <td>59</td>\n",
       "      <td>Nurse</td>\n",
       "      <td>8.1</td>\n",
       "      <td>9</td>\n",
       "      <td>75</td>\n",
       "      <td>3</td>\n",
       "      <td>Overweight</td>\n",
       "      <td>140/95</td>\n",
       "      <td>68</td>\n",
       "      <td>7000</td>\n",
       "      <td>Sleep Apnea</td>\n",
       "    </tr>\n",
       "    <tr>\n",
       "      <th>372</th>\n",
       "      <td>373</td>\n",
       "      <td>Female</td>\n",
       "      <td>59</td>\n",
       "      <td>Nurse</td>\n",
       "      <td>8.1</td>\n",
       "      <td>9</td>\n",
       "      <td>75</td>\n",
       "      <td>3</td>\n",
       "      <td>Overweight</td>\n",
       "      <td>140/95</td>\n",
       "      <td>68</td>\n",
       "      <td>7000</td>\n",
       "      <td>Sleep Apnea</td>\n",
       "    </tr>\n",
       "    <tr>\n",
       "      <th>373</th>\n",
       "      <td>374</td>\n",
       "      <td>Female</td>\n",
       "      <td>59</td>\n",
       "      <td>Nurse</td>\n",
       "      <td>8.1</td>\n",
       "      <td>9</td>\n",
       "      <td>75</td>\n",
       "      <td>3</td>\n",
       "      <td>Overweight</td>\n",
       "      <td>140/95</td>\n",
       "      <td>68</td>\n",
       "      <td>7000</td>\n",
       "      <td>Sleep Apnea</td>\n",
       "    </tr>\n",
       "  </tbody>\n",
       "</table>\n",
       "<p>374 rows × 13 columns</p>\n",
       "</div>"
      ],
      "text/plain": [
       "     Person ID  Gender  Age            Occupation  Sleep Duration  \\\n",
       "0            1    Male   27     Software Engineer             6.1   \n",
       "1            2    Male   28                Doctor             6.2   \n",
       "2            3    Male   28                Doctor             6.2   \n",
       "3            4    Male   28  Sales Representative             5.9   \n",
       "4            5    Male   28  Sales Representative             5.9   \n",
       "..         ...     ...  ...                   ...             ...   \n",
       "369        370  Female   59                 Nurse             8.1   \n",
       "370        371  Female   59                 Nurse             8.0   \n",
       "371        372  Female   59                 Nurse             8.1   \n",
       "372        373  Female   59                 Nurse             8.1   \n",
       "373        374  Female   59                 Nurse             8.1   \n",
       "\n",
       "     Quality of Sleep  Physical Activity Level  Stress Level BMI Category  \\\n",
       "0                   6                       42             6   Overweight   \n",
       "1                   6                       60             8       Normal   \n",
       "2                   6                       60             8       Normal   \n",
       "3                   4                       30             8        Obese   \n",
       "4                   4                       30             8        Obese   \n",
       "..                ...                      ...           ...          ...   \n",
       "369                 9                       75             3   Overweight   \n",
       "370                 9                       75             3   Overweight   \n",
       "371                 9                       75             3   Overweight   \n",
       "372                 9                       75             3   Overweight   \n",
       "373                 9                       75             3   Overweight   \n",
       "\n",
       "    Blood Pressure  Heart Rate  Daily Steps Sleep Disorder  \n",
       "0           126/83          77         4200           None  \n",
       "1           125/80          75        10000           None  \n",
       "2           125/80          75        10000           None  \n",
       "3           140/90          85         3000    Sleep Apnea  \n",
       "4           140/90          85         3000    Sleep Apnea  \n",
       "..             ...         ...          ...            ...  \n",
       "369         140/95          68         7000    Sleep Apnea  \n",
       "370         140/95          68         7000    Sleep Apnea  \n",
       "371         140/95          68         7000    Sleep Apnea  \n",
       "372         140/95          68         7000    Sleep Apnea  \n",
       "373         140/95          68         7000    Sleep Apnea  \n",
       "\n",
       "[374 rows x 13 columns]"
      ]
     },
     "execution_count": 5,
     "metadata": {},
     "output_type": "execute_result"
    }
   ],
   "source": [
    "df=pd.read_csv(\"Sleep_health_and_lifestyle_dataset.csv\")\n",
    "df"
   ]
  },
  {
   "cell_type": "markdown",
   "id": "62bd3663",
   "metadata": {},
   "source": [
    "## INFORMATION OF DATASET"
   ]
  },
  {
   "cell_type": "code",
   "execution_count": 6,
   "id": "9e45b3db",
   "metadata": {},
   "outputs": [
    {
     "name": "stdout",
     "output_type": "stream",
     "text": [
      "<class 'pandas.core.frame.DataFrame'>\n",
      "RangeIndex: 374 entries, 0 to 373\n",
      "Data columns (total 13 columns):\n",
      " #   Column                   Non-Null Count  Dtype  \n",
      "---  ------                   --------------  -----  \n",
      " 0   Person ID                374 non-null    int64  \n",
      " 1   Gender                   374 non-null    object \n",
      " 2   Age                      374 non-null    int64  \n",
      " 3   Occupation               374 non-null    object \n",
      " 4   Sleep Duration           374 non-null    float64\n",
      " 5   Quality of Sleep         374 non-null    int64  \n",
      " 6   Physical Activity Level  374 non-null    int64  \n",
      " 7   Stress Level             374 non-null    int64  \n",
      " 8   BMI Category             374 non-null    object \n",
      " 9   Blood Pressure           374 non-null    object \n",
      " 10  Heart Rate               374 non-null    int64  \n",
      " 11  Daily Steps              374 non-null    int64  \n",
      " 12  Sleep Disorder           374 non-null    object \n",
      "dtypes: float64(1), int64(7), object(5)\n",
      "memory usage: 38.1+ KB\n"
     ]
    }
   ],
   "source": [
    "df.info()"
   ]
  },
  {
   "cell_type": "markdown",
   "id": "f9c6a6f6",
   "metadata": {},
   "source": [
    "## UNDERSTANDING THE DATASET"
   ]
  },
  {
   "cell_type": "code",
   "execution_count": 7,
   "id": "47038a42",
   "metadata": {},
   "outputs": [
    {
     "data": {
      "text/plain": [
       "Index(['Person ID', 'Gender', 'Age', 'Occupation', 'Sleep Duration',\n",
       "       'Quality of Sleep', 'Physical Activity Level', 'Stress Level',\n",
       "       'BMI Category', 'Blood Pressure', 'Heart Rate', 'Daily Steps',\n",
       "       'Sleep Disorder'],\n",
       "      dtype='object')"
      ]
     },
     "execution_count": 7,
     "metadata": {},
     "output_type": "execute_result"
    }
   ],
   "source": [
    "df.columns"
   ]
  },
  {
   "cell_type": "code",
   "execution_count": 8,
   "id": "b6e113c8",
   "metadata": {},
   "outputs": [
    {
     "name": "stdout",
     "output_type": "stream",
     "text": [
      " \t\t\t\t********************COLUMNS REPRESENTATION*********************\n",
      "(a) Person ID : It is a unique identifier for each Individuals.\n",
      "\n",
      "(b) Gender : Indicates the gender of the person.\n",
      "\n",
      "(c) Age : Represents the age of the individual in years.\n",
      "\n",
      "(d) Occupation : Describes the type of occupation or job the person is engaged in.\n",
      "\n",
      "(e) Sleep Duration : Indicates the total duration of sleep in hours that the person gets.\n",
      "\n",
      "(f) Quality of Sleep : Represents a numerical assessment or rating of the quality of sleep. The higher the value, the better the quality.\n",
      "\n",
      "(g) Physical Activity Level : Represents the level of physical activity, often measured on a numerical scale.\n",
      "\n",
      "(h) Stress Level : Indicates the level of stress experienced by the individual, often measured on a numerical scale.\n",
      "\n",
      "(i) BMI Category : Represents the Body Mass Index (BMI) category, which categorizes individuals based on their BMI values into groups like Underweight, Normal, Overweight, etc.\n",
      "\n",
      "(j) Blood Pressure : Describes the individual's blood pressure, often categorized into different levels.\n",
      "\n",
      "(k) Heart Rate  : Represents the heart rate of the person, usually measured in beats per minute.\n",
      "\n",
      "(l) Daily Steps  : Indicates the number of steps taken by the individual on a daily basis, often associated with physical activity.\n",
      "\n",
      "(m) Sleep Disorder : Describes whether the person has been diagnosed with a sleep disorder.\n",
      "************************************************************************************************************************\n"
     ]
    }
   ],
   "source": [
    "print(\" \\t\\t\\t\\t********************COLUMNS REPRESENTATION*********************\")\n",
    "\n",
    "print(\"(a) Person ID : It is a unique identifier for each Individuals.\\n\\n(b) Gender : Indicates the gender of the person.\\n\\n(c) Age : Represents the age of the individual in years.\\n\\n(d) Occupation : Describes the type of occupation or job the person is engaged in.\\n\\n(e) Sleep Duration : Indicates the total duration of sleep in hours that the person gets.\\n\\n(f) Quality of Sleep : Represents a numerical assessment or rating of the quality of sleep. The higher the value, the better the quality.\\n\\n(g) Physical Activity Level : Represents the level of physical activity, often measured on a numerical scale.\\n\\n(h) Stress Level : Indicates the level of stress experienced by the individual, often measured on a numerical scale.\\n\\n(i) BMI Category : Represents the Body Mass Index (BMI) category, which categorizes individuals based on their BMI values into groups like Underweight, Normal, Overweight, etc.\\n\\n(j) Blood Pressure : Describes the individual's blood pressure, often categorized into different levels.\\n\\n(k) Heart Rate  : Represents the heart rate of the person, usually measured in beats per minute.\\n\\n(l) Daily Steps  : Indicates the number of steps taken by the individual on a daily basis, often associated with physical activity.\\n\\n(m) Sleep Disorder : Describes whether the person has been diagnosed with a sleep disorder.\")\n",
    "print((\"*\")*120)"
   ]
  },
  {
   "cell_type": "code",
   "execution_count": 9,
   "id": "193d422e",
   "metadata": {},
   "outputs": [
    {
     "data": {
      "text/plain": [
       "Person ID                  0\n",
       "Gender                     0\n",
       "Age                        0\n",
       "Occupation                 0\n",
       "Sleep Duration             0\n",
       "Quality of Sleep           0\n",
       "Physical Activity Level    0\n",
       "Stress Level               0\n",
       "BMI Category               0\n",
       "Blood Pressure             0\n",
       "Heart Rate                 0\n",
       "Daily Steps                0\n",
       "Sleep Disorder             0\n",
       "dtype: int64"
      ]
     },
     "execution_count": 9,
     "metadata": {},
     "output_type": "execute_result"
    }
   ],
   "source": [
    "df.isnull().sum()"
   ]
  },
  {
   "cell_type": "markdown",
   "id": "8eea77f7",
   "metadata": {},
   "source": [
    "## STATISTICAL INFORMATION OF DATASET"
   ]
  },
  {
   "cell_type": "code",
   "execution_count": 10,
   "id": "9fe614de",
   "metadata": {},
   "outputs": [
    {
     "data": {
      "text/html": [
       "<div>\n",
       "<style scoped>\n",
       "    .dataframe tbody tr th:only-of-type {\n",
       "        vertical-align: middle;\n",
       "    }\n",
       "\n",
       "    .dataframe tbody tr th {\n",
       "        vertical-align: top;\n",
       "    }\n",
       "\n",
       "    .dataframe thead th {\n",
       "        text-align: right;\n",
       "    }\n",
       "</style>\n",
       "<table border=\"1\" class=\"dataframe\">\n",
       "  <thead>\n",
       "    <tr style=\"text-align: right;\">\n",
       "      <th></th>\n",
       "      <th>Person ID</th>\n",
       "      <th>Age</th>\n",
       "      <th>Sleep Duration</th>\n",
       "      <th>Quality of Sleep</th>\n",
       "      <th>Physical Activity Level</th>\n",
       "      <th>Stress Level</th>\n",
       "      <th>Heart Rate</th>\n",
       "      <th>Daily Steps</th>\n",
       "    </tr>\n",
       "  </thead>\n",
       "  <tbody>\n",
       "    <tr>\n",
       "      <th>count</th>\n",
       "      <td>374.000000</td>\n",
       "      <td>374.000000</td>\n",
       "      <td>374.000000</td>\n",
       "      <td>374.000000</td>\n",
       "      <td>374.000000</td>\n",
       "      <td>374.000000</td>\n",
       "      <td>374.000000</td>\n",
       "      <td>374.000000</td>\n",
       "    </tr>\n",
       "    <tr>\n",
       "      <th>mean</th>\n",
       "      <td>187.500000</td>\n",
       "      <td>42.184492</td>\n",
       "      <td>7.132086</td>\n",
       "      <td>7.312834</td>\n",
       "      <td>59.171123</td>\n",
       "      <td>5.385027</td>\n",
       "      <td>70.165775</td>\n",
       "      <td>6816.844920</td>\n",
       "    </tr>\n",
       "    <tr>\n",
       "      <th>std</th>\n",
       "      <td>108.108742</td>\n",
       "      <td>8.673133</td>\n",
       "      <td>0.795657</td>\n",
       "      <td>1.196956</td>\n",
       "      <td>20.830804</td>\n",
       "      <td>1.774526</td>\n",
       "      <td>4.135676</td>\n",
       "      <td>1617.915679</td>\n",
       "    </tr>\n",
       "    <tr>\n",
       "      <th>min</th>\n",
       "      <td>1.000000</td>\n",
       "      <td>27.000000</td>\n",
       "      <td>5.800000</td>\n",
       "      <td>4.000000</td>\n",
       "      <td>30.000000</td>\n",
       "      <td>3.000000</td>\n",
       "      <td>65.000000</td>\n",
       "      <td>3000.000000</td>\n",
       "    </tr>\n",
       "    <tr>\n",
       "      <th>25%</th>\n",
       "      <td>94.250000</td>\n",
       "      <td>35.250000</td>\n",
       "      <td>6.400000</td>\n",
       "      <td>6.000000</td>\n",
       "      <td>45.000000</td>\n",
       "      <td>4.000000</td>\n",
       "      <td>68.000000</td>\n",
       "      <td>5600.000000</td>\n",
       "    </tr>\n",
       "    <tr>\n",
       "      <th>50%</th>\n",
       "      <td>187.500000</td>\n",
       "      <td>43.000000</td>\n",
       "      <td>7.200000</td>\n",
       "      <td>7.000000</td>\n",
       "      <td>60.000000</td>\n",
       "      <td>5.000000</td>\n",
       "      <td>70.000000</td>\n",
       "      <td>7000.000000</td>\n",
       "    </tr>\n",
       "    <tr>\n",
       "      <th>75%</th>\n",
       "      <td>280.750000</td>\n",
       "      <td>50.000000</td>\n",
       "      <td>7.800000</td>\n",
       "      <td>8.000000</td>\n",
       "      <td>75.000000</td>\n",
       "      <td>7.000000</td>\n",
       "      <td>72.000000</td>\n",
       "      <td>8000.000000</td>\n",
       "    </tr>\n",
       "    <tr>\n",
       "      <th>max</th>\n",
       "      <td>374.000000</td>\n",
       "      <td>59.000000</td>\n",
       "      <td>8.500000</td>\n",
       "      <td>9.000000</td>\n",
       "      <td>90.000000</td>\n",
       "      <td>8.000000</td>\n",
       "      <td>86.000000</td>\n",
       "      <td>10000.000000</td>\n",
       "    </tr>\n",
       "  </tbody>\n",
       "</table>\n",
       "</div>"
      ],
      "text/plain": [
       "        Person ID         Age  Sleep Duration  Quality of Sleep  \\\n",
       "count  374.000000  374.000000      374.000000        374.000000   \n",
       "mean   187.500000   42.184492        7.132086          7.312834   \n",
       "std    108.108742    8.673133        0.795657          1.196956   \n",
       "min      1.000000   27.000000        5.800000          4.000000   \n",
       "25%     94.250000   35.250000        6.400000          6.000000   \n",
       "50%    187.500000   43.000000        7.200000          7.000000   \n",
       "75%    280.750000   50.000000        7.800000          8.000000   \n",
       "max    374.000000   59.000000        8.500000          9.000000   \n",
       "\n",
       "       Physical Activity Level  Stress Level  Heart Rate   Daily Steps  \n",
       "count               374.000000    374.000000  374.000000    374.000000  \n",
       "mean                 59.171123      5.385027   70.165775   6816.844920  \n",
       "std                  20.830804      1.774526    4.135676   1617.915679  \n",
       "min                  30.000000      3.000000   65.000000   3000.000000  \n",
       "25%                  45.000000      4.000000   68.000000   5600.000000  \n",
       "50%                  60.000000      5.000000   70.000000   7000.000000  \n",
       "75%                  75.000000      7.000000   72.000000   8000.000000  \n",
       "max                  90.000000      8.000000   86.000000  10000.000000  "
      ]
     },
     "execution_count": 10,
     "metadata": {},
     "output_type": "execute_result"
    }
   ],
   "source": [
    "df.describe()"
   ]
  },
  {
   "cell_type": "code",
   "execution_count": 11,
   "id": "87d2feb2",
   "metadata": {},
   "outputs": [
    {
     "data": {
      "text/html": [
       "<div>\n",
       "<style scoped>\n",
       "    .dataframe tbody tr th:only-of-type {\n",
       "        vertical-align: middle;\n",
       "    }\n",
       "\n",
       "    .dataframe tbody tr th {\n",
       "        vertical-align: top;\n",
       "    }\n",
       "\n",
       "    .dataframe thead th {\n",
       "        text-align: right;\n",
       "    }\n",
       "</style>\n",
       "<table border=\"1\" class=\"dataframe\">\n",
       "  <thead>\n",
       "    <tr style=\"text-align: right;\">\n",
       "      <th></th>\n",
       "      <th>Person ID</th>\n",
       "      <th>Age</th>\n",
       "      <th>Sleep Duration</th>\n",
       "      <th>Quality of Sleep</th>\n",
       "      <th>Physical Activity Level</th>\n",
       "      <th>Stress Level</th>\n",
       "      <th>Heart Rate</th>\n",
       "      <th>Daily Steps</th>\n",
       "    </tr>\n",
       "  </thead>\n",
       "  <tbody>\n",
       "    <tr>\n",
       "      <th>Person ID</th>\n",
       "      <td>1.000000</td>\n",
       "      <td>0.990516</td>\n",
       "      <td>0.296305</td>\n",
       "      <td>0.431612</td>\n",
       "      <td>0.149882</td>\n",
       "      <td>-0.394287</td>\n",
       "      <td>-0.225467</td>\n",
       "      <td>0.043844</td>\n",
       "    </tr>\n",
       "    <tr>\n",
       "      <th>Age</th>\n",
       "      <td>0.990516</td>\n",
       "      <td>1.000000</td>\n",
       "      <td>0.344709</td>\n",
       "      <td>0.473734</td>\n",
       "      <td>0.178993</td>\n",
       "      <td>-0.422344</td>\n",
       "      <td>-0.225606</td>\n",
       "      <td>0.057973</td>\n",
       "    </tr>\n",
       "    <tr>\n",
       "      <th>Sleep Duration</th>\n",
       "      <td>0.296305</td>\n",
       "      <td>0.344709</td>\n",
       "      <td>1.000000</td>\n",
       "      <td>0.883213</td>\n",
       "      <td>0.212360</td>\n",
       "      <td>-0.811023</td>\n",
       "      <td>-0.516455</td>\n",
       "      <td>-0.039533</td>\n",
       "    </tr>\n",
       "    <tr>\n",
       "      <th>Quality of Sleep</th>\n",
       "      <td>0.431612</td>\n",
       "      <td>0.473734</td>\n",
       "      <td>0.883213</td>\n",
       "      <td>1.000000</td>\n",
       "      <td>0.192896</td>\n",
       "      <td>-0.898752</td>\n",
       "      <td>-0.659865</td>\n",
       "      <td>0.016791</td>\n",
       "    </tr>\n",
       "    <tr>\n",
       "      <th>Physical Activity Level</th>\n",
       "      <td>0.149882</td>\n",
       "      <td>0.178993</td>\n",
       "      <td>0.212360</td>\n",
       "      <td>0.192896</td>\n",
       "      <td>1.000000</td>\n",
       "      <td>-0.034134</td>\n",
       "      <td>0.136971</td>\n",
       "      <td>0.772723</td>\n",
       "    </tr>\n",
       "    <tr>\n",
       "      <th>Stress Level</th>\n",
       "      <td>-0.394287</td>\n",
       "      <td>-0.422344</td>\n",
       "      <td>-0.811023</td>\n",
       "      <td>-0.898752</td>\n",
       "      <td>-0.034134</td>\n",
       "      <td>1.000000</td>\n",
       "      <td>0.670026</td>\n",
       "      <td>0.186829</td>\n",
       "    </tr>\n",
       "    <tr>\n",
       "      <th>Heart Rate</th>\n",
       "      <td>-0.225467</td>\n",
       "      <td>-0.225606</td>\n",
       "      <td>-0.516455</td>\n",
       "      <td>-0.659865</td>\n",
       "      <td>0.136971</td>\n",
       "      <td>0.670026</td>\n",
       "      <td>1.000000</td>\n",
       "      <td>-0.030309</td>\n",
       "    </tr>\n",
       "    <tr>\n",
       "      <th>Daily Steps</th>\n",
       "      <td>0.043844</td>\n",
       "      <td>0.057973</td>\n",
       "      <td>-0.039533</td>\n",
       "      <td>0.016791</td>\n",
       "      <td>0.772723</td>\n",
       "      <td>0.186829</td>\n",
       "      <td>-0.030309</td>\n",
       "      <td>1.000000</td>\n",
       "    </tr>\n",
       "  </tbody>\n",
       "</table>\n",
       "</div>"
      ],
      "text/plain": [
       "                         Person ID       Age  Sleep Duration  \\\n",
       "Person ID                 1.000000  0.990516        0.296305   \n",
       "Age                       0.990516  1.000000        0.344709   \n",
       "Sleep Duration            0.296305  0.344709        1.000000   \n",
       "Quality of Sleep          0.431612  0.473734        0.883213   \n",
       "Physical Activity Level   0.149882  0.178993        0.212360   \n",
       "Stress Level             -0.394287 -0.422344       -0.811023   \n",
       "Heart Rate               -0.225467 -0.225606       -0.516455   \n",
       "Daily Steps               0.043844  0.057973       -0.039533   \n",
       "\n",
       "                         Quality of Sleep  Physical Activity Level  \\\n",
       "Person ID                        0.431612                 0.149882   \n",
       "Age                              0.473734                 0.178993   \n",
       "Sleep Duration                   0.883213                 0.212360   \n",
       "Quality of Sleep                 1.000000                 0.192896   \n",
       "Physical Activity Level          0.192896                 1.000000   \n",
       "Stress Level                    -0.898752                -0.034134   \n",
       "Heart Rate                      -0.659865                 0.136971   \n",
       "Daily Steps                      0.016791                 0.772723   \n",
       "\n",
       "                         Stress Level  Heart Rate  Daily Steps  \n",
       "Person ID                   -0.394287   -0.225467     0.043844  \n",
       "Age                         -0.422344   -0.225606     0.057973  \n",
       "Sleep Duration              -0.811023   -0.516455    -0.039533  \n",
       "Quality of Sleep            -0.898752   -0.659865     0.016791  \n",
       "Physical Activity Level     -0.034134    0.136971     0.772723  \n",
       "Stress Level                 1.000000    0.670026     0.186829  \n",
       "Heart Rate                   0.670026    1.000000    -0.030309  \n",
       "Daily Steps                  0.186829   -0.030309     1.000000  "
      ]
     },
     "execution_count": 11,
     "metadata": {},
     "output_type": "execute_result"
    }
   ],
   "source": [
    "df.corr()"
   ]
  },
  {
   "cell_type": "code",
   "execution_count": 12,
   "id": "9120abd6",
   "metadata": {},
   "outputs": [],
   "source": [
    "df.drop('Person ID', axis=1, inplace=True)"
   ]
  },
  {
   "cell_type": "markdown",
   "id": "6b1a074b",
   "metadata": {},
   "source": [
    "## Separating into Features and Target Coulmns"
   ]
  },
  {
   "cell_type": "code",
   "execution_count": 13,
   "id": "9a0053db",
   "metadata": {},
   "outputs": [
    {
     "data": {
      "text/html": [
       "<div>\n",
       "<style scoped>\n",
       "    .dataframe tbody tr th:only-of-type {\n",
       "        vertical-align: middle;\n",
       "    }\n",
       "\n",
       "    .dataframe tbody tr th {\n",
       "        vertical-align: top;\n",
       "    }\n",
       "\n",
       "    .dataframe thead th {\n",
       "        text-align: right;\n",
       "    }\n",
       "</style>\n",
       "<table border=\"1\" class=\"dataframe\">\n",
       "  <thead>\n",
       "    <tr style=\"text-align: right;\">\n",
       "      <th></th>\n",
       "      <th>Gender</th>\n",
       "      <th>Age</th>\n",
       "      <th>Occupation</th>\n",
       "      <th>Sleep Duration</th>\n",
       "      <th>Quality of Sleep</th>\n",
       "      <th>Physical Activity Level</th>\n",
       "      <th>Stress Level</th>\n",
       "      <th>BMI Category</th>\n",
       "      <th>Blood Pressure</th>\n",
       "      <th>Daily Steps</th>\n",
       "      <th>Sleep Disorder</th>\n",
       "    </tr>\n",
       "  </thead>\n",
       "  <tbody>\n",
       "    <tr>\n",
       "      <th>0</th>\n",
       "      <td>Male</td>\n",
       "      <td>27</td>\n",
       "      <td>Software Engineer</td>\n",
       "      <td>6.1</td>\n",
       "      <td>6</td>\n",
       "      <td>42</td>\n",
       "      <td>6</td>\n",
       "      <td>Overweight</td>\n",
       "      <td>126/83</td>\n",
       "      <td>4200</td>\n",
       "      <td>None</td>\n",
       "    </tr>\n",
       "    <tr>\n",
       "      <th>1</th>\n",
       "      <td>Male</td>\n",
       "      <td>28</td>\n",
       "      <td>Doctor</td>\n",
       "      <td>6.2</td>\n",
       "      <td>6</td>\n",
       "      <td>60</td>\n",
       "      <td>8</td>\n",
       "      <td>Normal</td>\n",
       "      <td>125/80</td>\n",
       "      <td>10000</td>\n",
       "      <td>None</td>\n",
       "    </tr>\n",
       "    <tr>\n",
       "      <th>2</th>\n",
       "      <td>Male</td>\n",
       "      <td>28</td>\n",
       "      <td>Doctor</td>\n",
       "      <td>6.2</td>\n",
       "      <td>6</td>\n",
       "      <td>60</td>\n",
       "      <td>8</td>\n",
       "      <td>Normal</td>\n",
       "      <td>125/80</td>\n",
       "      <td>10000</td>\n",
       "      <td>None</td>\n",
       "    </tr>\n",
       "    <tr>\n",
       "      <th>3</th>\n",
       "      <td>Male</td>\n",
       "      <td>28</td>\n",
       "      <td>Sales Representative</td>\n",
       "      <td>5.9</td>\n",
       "      <td>4</td>\n",
       "      <td>30</td>\n",
       "      <td>8</td>\n",
       "      <td>Obese</td>\n",
       "      <td>140/90</td>\n",
       "      <td>3000</td>\n",
       "      <td>Sleep Apnea</td>\n",
       "    </tr>\n",
       "    <tr>\n",
       "      <th>4</th>\n",
       "      <td>Male</td>\n",
       "      <td>28</td>\n",
       "      <td>Sales Representative</td>\n",
       "      <td>5.9</td>\n",
       "      <td>4</td>\n",
       "      <td>30</td>\n",
       "      <td>8</td>\n",
       "      <td>Obese</td>\n",
       "      <td>140/90</td>\n",
       "      <td>3000</td>\n",
       "      <td>Sleep Apnea</td>\n",
       "    </tr>\n",
       "    <tr>\n",
       "      <th>...</th>\n",
       "      <td>...</td>\n",
       "      <td>...</td>\n",
       "      <td>...</td>\n",
       "      <td>...</td>\n",
       "      <td>...</td>\n",
       "      <td>...</td>\n",
       "      <td>...</td>\n",
       "      <td>...</td>\n",
       "      <td>...</td>\n",
       "      <td>...</td>\n",
       "      <td>...</td>\n",
       "    </tr>\n",
       "    <tr>\n",
       "      <th>369</th>\n",
       "      <td>Female</td>\n",
       "      <td>59</td>\n",
       "      <td>Nurse</td>\n",
       "      <td>8.1</td>\n",
       "      <td>9</td>\n",
       "      <td>75</td>\n",
       "      <td>3</td>\n",
       "      <td>Overweight</td>\n",
       "      <td>140/95</td>\n",
       "      <td>7000</td>\n",
       "      <td>Sleep Apnea</td>\n",
       "    </tr>\n",
       "    <tr>\n",
       "      <th>370</th>\n",
       "      <td>Female</td>\n",
       "      <td>59</td>\n",
       "      <td>Nurse</td>\n",
       "      <td>8.0</td>\n",
       "      <td>9</td>\n",
       "      <td>75</td>\n",
       "      <td>3</td>\n",
       "      <td>Overweight</td>\n",
       "      <td>140/95</td>\n",
       "      <td>7000</td>\n",
       "      <td>Sleep Apnea</td>\n",
       "    </tr>\n",
       "    <tr>\n",
       "      <th>371</th>\n",
       "      <td>Female</td>\n",
       "      <td>59</td>\n",
       "      <td>Nurse</td>\n",
       "      <td>8.1</td>\n",
       "      <td>9</td>\n",
       "      <td>75</td>\n",
       "      <td>3</td>\n",
       "      <td>Overweight</td>\n",
       "      <td>140/95</td>\n",
       "      <td>7000</td>\n",
       "      <td>Sleep Apnea</td>\n",
       "    </tr>\n",
       "    <tr>\n",
       "      <th>372</th>\n",
       "      <td>Female</td>\n",
       "      <td>59</td>\n",
       "      <td>Nurse</td>\n",
       "      <td>8.1</td>\n",
       "      <td>9</td>\n",
       "      <td>75</td>\n",
       "      <td>3</td>\n",
       "      <td>Overweight</td>\n",
       "      <td>140/95</td>\n",
       "      <td>7000</td>\n",
       "      <td>Sleep Apnea</td>\n",
       "    </tr>\n",
       "    <tr>\n",
       "      <th>373</th>\n",
       "      <td>Female</td>\n",
       "      <td>59</td>\n",
       "      <td>Nurse</td>\n",
       "      <td>8.1</td>\n",
       "      <td>9</td>\n",
       "      <td>75</td>\n",
       "      <td>3</td>\n",
       "      <td>Overweight</td>\n",
       "      <td>140/95</td>\n",
       "      <td>7000</td>\n",
       "      <td>Sleep Apnea</td>\n",
       "    </tr>\n",
       "  </tbody>\n",
       "</table>\n",
       "<p>374 rows × 11 columns</p>\n",
       "</div>"
      ],
      "text/plain": [
       "     Gender  Age            Occupation  Sleep Duration  Quality of Sleep  \\\n",
       "0      Male   27     Software Engineer             6.1                 6   \n",
       "1      Male   28                Doctor             6.2                 6   \n",
       "2      Male   28                Doctor             6.2                 6   \n",
       "3      Male   28  Sales Representative             5.9                 4   \n",
       "4      Male   28  Sales Representative             5.9                 4   \n",
       "..      ...  ...                   ...             ...               ...   \n",
       "369  Female   59                 Nurse             8.1                 9   \n",
       "370  Female   59                 Nurse             8.0                 9   \n",
       "371  Female   59                 Nurse             8.1                 9   \n",
       "372  Female   59                 Nurse             8.1                 9   \n",
       "373  Female   59                 Nurse             8.1                 9   \n",
       "\n",
       "     Physical Activity Level  Stress Level BMI Category Blood Pressure  \\\n",
       "0                         42             6   Overweight         126/83   \n",
       "1                         60             8       Normal         125/80   \n",
       "2                         60             8       Normal         125/80   \n",
       "3                         30             8        Obese         140/90   \n",
       "4                         30             8        Obese         140/90   \n",
       "..                       ...           ...          ...            ...   \n",
       "369                       75             3   Overweight         140/95   \n",
       "370                       75             3   Overweight         140/95   \n",
       "371                       75             3   Overweight         140/95   \n",
       "372                       75             3   Overweight         140/95   \n",
       "373                       75             3   Overweight         140/95   \n",
       "\n",
       "     Daily Steps Sleep Disorder  \n",
       "0           4200           None  \n",
       "1          10000           None  \n",
       "2          10000           None  \n",
       "3           3000    Sleep Apnea  \n",
       "4           3000    Sleep Apnea  \n",
       "..           ...            ...  \n",
       "369         7000    Sleep Apnea  \n",
       "370         7000    Sleep Apnea  \n",
       "371         7000    Sleep Apnea  \n",
       "372         7000    Sleep Apnea  \n",
       "373         7000    Sleep Apnea  \n",
       "\n",
       "[374 rows x 11 columns]"
      ]
     },
     "execution_count": 13,
     "metadata": {},
     "output_type": "execute_result"
    }
   ],
   "source": [
    "x=df.drop(columns=['Heart Rate'])\n",
    "x"
   ]
  },
  {
   "cell_type": "code",
   "execution_count": 14,
   "id": "00618160",
   "metadata": {},
   "outputs": [],
   "source": [
    "y=df['Heart Rate']"
   ]
  },
  {
   "cell_type": "code",
   "execution_count": 15,
   "id": "4edc4f49",
   "metadata": {},
   "outputs": [
    {
     "data": {
      "text/plain": [
       "0      77\n",
       "1      75\n",
       "2      75\n",
       "3      85\n",
       "4      85\n",
       "       ..\n",
       "369    68\n",
       "370    68\n",
       "371    68\n",
       "372    68\n",
       "373    68\n",
       "Name: Heart Rate, Length: 374, dtype: int64"
      ]
     },
     "execution_count": 15,
     "metadata": {},
     "output_type": "execute_result"
    }
   ],
   "source": [
    "y"
   ]
  },
  {
   "cell_type": "markdown",
   "id": "3cfbc1c3",
   "metadata": {},
   "source": [
    "## UNIVARIATE AND BIVARIATE ANALYSIS OF DATASET"
   ]
  },
  {
   "cell_type": "code",
   "execution_count": 16,
   "id": "ddacb0f6",
   "metadata": {},
   "outputs": [
    {
     "name": "stdout",
     "output_type": "stream",
     "text": [
      "Male      189\n",
      "Female    185\n",
      "Name: Gender, dtype: int64\n"
     ]
    },
    {
     "data": {
      "image/png": "[encoded data removed]",
      "text/plain": [
       "<Figure size 800x600 with 1 Axes>"
      ]
     },
     "metadata": {},
     "output_type": "display_data"
    }
   ],
   "source": [
    "gender_counts = df['Gender'].value_counts()\n",
    "print(df['Gender'].value_counts())\n",
    "\n",
    "plt.figure(figsize=(8, 6))\n",
    "gender_counts.plot(kind='bar')\n",
    "plt.title('Sleep Disorder by gender')\n",
    "plt.xlabel('Gender')\n",
    "plt.ylabel('Sleep Disorder')\n",
    "plt.xticks(rotation=90)\n",
    "plt.show()"
   ]
  },
  {
   "cell_type": "code",
   "execution_count": 17,
   "id": "4933e71e",
   "metadata": {},
   "outputs": [
    {
     "data": {
      "image/png": "[encoded data removed]",
      "text/plain": [
       "<Figure size 800x600 with 1 Axes>"
      ]
     },
     "metadata": {},
     "output_type": "display_data"
    }
   ],
   "source": [
    "plt.figure(figsize=(8, 6))\n",
    "plt.scatter(x=df['Blood Pressure'][0:20], y=df['Heart Rate'][0:20])\n",
    "plt.title('Blood Pressure vs. Heart Rate')\n",
    "plt.xlabel('Blood Pressure')\n",
    "plt.ylabel('Heart Rate')\n",
    "plt.xticks(rotation=90)\n",
    "plt.yticks(rotation=90)\n",
    "plt.grid()\n",
    "plt.show()"
   ]
  },
  {
   "cell_type": "markdown",
   "id": "170b9764",
   "metadata": {},
   "source": [
    "## HANDELLING OUTLIERS"
   ]
  },
  {
   "cell_type": "code",
   "execution_count": 36,
   "id": "30c14359",
   "metadata": {},
   "outputs": [
    {
     "data": {
      "text/plain": [
       "<Axes: xlabel='Heart Rate'>"
      ]
     },
     "execution_count": 36,
     "metadata": {},
     "output_type": "execute_result"
    },
    {
     "data": {
      "image/png": "[encoded data removed]",
      "text/plain": [
       "<Figure size 640x480 with 1 Axes>"
      ]
     },
     "metadata": {},
     "output_type": "display_data"
    }
   ],
   "source": [
    "sns.boxplot(data=x,x=y)"
   ]
  },
  {
   "cell_type": "code",
   "execution_count": 37,
   "id": "66963816",
   "metadata": {},
   "outputs": [
    {
     "data": {
      "image/png": "[encoded data removed]",
      "text/plain": [
       "<Figure size 640x480 with 1 Axes>"
      ]
     },
     "metadata": {},
     "output_type": "display_data"
    }
   ],
   "source": [
    "sns.boxplot(data=x,x=y,y='Occupation')\n",
    "plt.grid()"
   ]
  },
  {
   "cell_type": "code",
   "execution_count": 39,
   "id": "8190647c",
   "metadata": {},
   "outputs": [],
   "source": [
    "i=x[(x.Occupation=='Doctor') & (y>82)].index\n",
    "x.drop(i,axis=0,inplace=True)\n",
    "y.drop(i,axis=0,inplace=True)\n",
    "\n",
    "i=x[(x.Occupation=='Teacher') & (y>67)].index\n",
    "x.drop(i,axis=0,inplace=True)\n",
    "y.drop(i,axis=0,inplace=True)\n",
    "\n",
    "i=x[(x.Occupation=='Engineer') & (y>75)].index\n",
    "x.drop(i,axis=0,inplace=True)\n",
    "y.drop(i,axis=0,inplace=True)\n",
    "\n",
    "i=x[(x.Occupation=='Lawyer') & (y>74)].index\n",
    "x.drop(i,axis=0,inplace=True)\n",
    "y.drop(i,axis=0,inplace=True)\n",
    "\n",
    "i=x[(x.Occupation=='Accountant') & (y>70)].index\n",
    "x.drop(i,axis=0,inplace=True)\n",
    "y.drop(i,axis=0,inplace=True)"
   ]
  },
  {
   "cell_type": "code",
   "execution_count": 40,
   "id": "28f25986",
   "metadata": {},
   "outputs": [
    {
     "data": {
      "image/png": "[encoded data removed]",
      "text/plain": [
       "<Figure size 640x480 with 1 Axes>"
      ]
     },
     "metadata": {},
     "output_type": "display_data"
    }
   ],
   "source": [
    "sns.boxplot(data=x,x=y,y='Occupation')\n",
    "plt.grid()"
   ]
  },
  {
   "cell_type": "markdown",
   "id": "b7aa7c0e",
   "metadata": {},
   "source": [
    "## HANDELLING SKEWNESS"
   ]
  },
  {
   "cell_type": "code",
   "execution_count": 31,
   "id": "e41ce257",
   "metadata": {},
   "outputs": [
    {
     "data": {
      "text/plain": [
       "Index(['Age', 'Sleep Duration', 'Quality of Sleep', 'Physical Activity Level',\n",
       "       'Stress Level', 'Daily Steps'],\n",
       "      dtype='object')"
      ]
     },
     "execution_count": 31,
     "metadata": {},
     "output_type": "execute_result"
    }
   ],
   "source": [
    "col=x.select_dtypes(['int','float']).columns\n",
    "col"
   ]
  },
  {
   "cell_type": "code",
   "execution_count": 24,
   "id": "be27300b",
   "metadata": {},
   "outputs": [
    {
     "data": {
      "text/html": [
       "<div>\n",
       "<style scoped>\n",
       "    .dataframe tbody tr th:only-of-type {\n",
       "        vertical-align: middle;\n",
       "    }\n",
       "\n",
       "    .dataframe tbody tr th {\n",
       "        vertical-align: top;\n",
       "    }\n",
       "\n",
       "    .dataframe thead th {\n",
       "        text-align: right;\n",
       "    }\n",
       "</style>\n",
       "<table border=\"1\" class=\"dataframe\">\n",
       "  <thead>\n",
       "    <tr style=\"text-align: right;\">\n",
       "      <th></th>\n",
       "      <th>Age</th>\n",
       "      <th>Sleep Duration</th>\n",
       "      <th>Quality of Sleep</th>\n",
       "      <th>Physical Activity Level</th>\n",
       "      <th>Stress Level</th>\n",
       "      <th>Daily Steps</th>\n",
       "    </tr>\n",
       "  </thead>\n",
       "  <tbody>\n",
       "    <tr>\n",
       "      <th>0</th>\n",
       "      <td>27</td>\n",
       "      <td>6.1</td>\n",
       "      <td>6</td>\n",
       "      <td>42</td>\n",
       "      <td>6</td>\n",
       "      <td>4200</td>\n",
       "    </tr>\n",
       "    <tr>\n",
       "      <th>3</th>\n",
       "      <td>28</td>\n",
       "      <td>5.9</td>\n",
       "      <td>4</td>\n",
       "      <td>30</td>\n",
       "      <td>8</td>\n",
       "      <td>3000</td>\n",
       "    </tr>\n",
       "    <tr>\n",
       "      <th>4</th>\n",
       "      <td>28</td>\n",
       "      <td>5.9</td>\n",
       "      <td>4</td>\n",
       "      <td>30</td>\n",
       "      <td>8</td>\n",
       "      <td>3000</td>\n",
       "    </tr>\n",
       "    <tr>\n",
       "      <th>5</th>\n",
       "      <td>28</td>\n",
       "      <td>5.9</td>\n",
       "      <td>4</td>\n",
       "      <td>30</td>\n",
       "      <td>8</td>\n",
       "      <td>3000</td>\n",
       "    </tr>\n",
       "    <tr>\n",
       "      <th>7</th>\n",
       "      <td>29</td>\n",
       "      <td>7.8</td>\n",
       "      <td>7</td>\n",
       "      <td>75</td>\n",
       "      <td>6</td>\n",
       "      <td>8000</td>\n",
       "    </tr>\n",
       "    <tr>\n",
       "      <th>...</th>\n",
       "      <td>...</td>\n",
       "      <td>...</td>\n",
       "      <td>...</td>\n",
       "      <td>...</td>\n",
       "      <td>...</td>\n",
       "      <td>...</td>\n",
       "    </tr>\n",
       "    <tr>\n",
       "      <th>369</th>\n",
       "      <td>59</td>\n",
       "      <td>8.1</td>\n",
       "      <td>9</td>\n",
       "      <td>75</td>\n",
       "      <td>3</td>\n",
       "      <td>7000</td>\n",
       "    </tr>\n",
       "    <tr>\n",
       "      <th>370</th>\n",
       "      <td>59</td>\n",
       "      <td>8.0</td>\n",
       "      <td>9</td>\n",
       "      <td>75</td>\n",
       "      <td>3</td>\n",
       "      <td>7000</td>\n",
       "    </tr>\n",
       "    <tr>\n",
       "      <th>371</th>\n",
       "      <td>59</td>\n",
       "      <td>8.1</td>\n",
       "      <td>9</td>\n",
       "      <td>75</td>\n",
       "      <td>3</td>\n",
       "      <td>7000</td>\n",
       "    </tr>\n",
       "    <tr>\n",
       "      <th>372</th>\n",
       "      <td>59</td>\n",
       "      <td>8.1</td>\n",
       "      <td>9</td>\n",
       "      <td>75</td>\n",
       "      <td>3</td>\n",
       "      <td>7000</td>\n",
       "    </tr>\n",
       "    <tr>\n",
       "      <th>373</th>\n",
       "      <td>59</td>\n",
       "      <td>8.1</td>\n",
       "      <td>9</td>\n",
       "      <td>75</td>\n",
       "      <td>3</td>\n",
       "      <td>7000</td>\n",
       "    </tr>\n",
       "  </tbody>\n",
       "</table>\n",
       "<p>346 rows × 6 columns</p>\n",
       "</div>"
      ],
      "text/plain": [
       "     Age  Sleep Duration  Quality of Sleep  Physical Activity Level  \\\n",
       "0     27             6.1                 6                       42   \n",
       "3     28             5.9                 4                       30   \n",
       "4     28             5.9                 4                       30   \n",
       "5     28             5.9                 4                       30   \n",
       "7     29             7.8                 7                       75   \n",
       "..   ...             ...               ...                      ...   \n",
       "369   59             8.1                 9                       75   \n",
       "370   59             8.0                 9                       75   \n",
       "371   59             8.1                 9                       75   \n",
       "372   59             8.1                 9                       75   \n",
       "373   59             8.1                 9                       75   \n",
       "\n",
       "     Stress Level  Daily Steps  \n",
       "0               6         4200  \n",
       "3               8         3000  \n",
       "4               8         3000  \n",
       "5               8         3000  \n",
       "7               6         8000  \n",
       "..            ...          ...  \n",
       "369             3         7000  \n",
       "370             3         7000  \n",
       "371             3         7000  \n",
       "372             3         7000  \n",
       "373             3         7000  \n",
       "\n",
       "[346 rows x 6 columns]"
      ]
     },
     "execution_count": 24,
     "metadata": {},
     "output_type": "execute_result"
    }
   ],
   "source": [
    "x[col]"
   ]
  },
  {
   "cell_type": "code",
   "execution_count": 25,
   "id": "b699388b",
   "metadata": {},
   "outputs": [],
   "source": [
    "from scipy.stats import skew"
   ]
  },
  {
   "cell_type": "code",
   "execution_count": 26,
   "id": "bfdc6234",
   "metadata": {
    "scrolled": false
   },
   "outputs": [
    {
     "name": "stdout",
     "output_type": "stream",
     "text": [
      "Age\n",
      "0.22740599369418193\n"
     ]
    },
    {
     "data": {
      "text/plain": [
       "<Figure size 640x480 with 0 Axes>"
      ]
     },
     "metadata": {},
     "output_type": "display_data"
    },
    {
     "data": {
      "image/png": "[encoded data removed]",
      "text/plain": [
       "<Figure size 500x500 with 1 Axes>"
      ]
     },
     "metadata": {},
     "output_type": "display_data"
    },
    {
     "name": "stdout",
     "output_type": "stream",
     "text": [
      "Sleep Duration\n",
      "-0.03637010324389511\n"
     ]
    },
    {
     "data": {
      "text/plain": [
       "<Figure size 640x480 with 0 Axes>"
      ]
     },
     "metadata": {},
     "output_type": "display_data"
    },
    {
     "data": {
      "image/png": "[encoded data removed]",
      "text/plain": [
       "<Figure size 500x500 with 1 Axes>"
      ]
     },
     "metadata": {},
     "output_type": "display_data"
    },
    {
     "name": "stdout",
     "output_type": "stream",
     "text": [
      "Quality of Sleep\n",
      "-0.2253356548299154\n"
     ]
    },
    {
     "data": {
      "text/plain": [
       "<Figure size 640x480 with 0 Axes>"
      ]
     },
     "metadata": {},
     "output_type": "display_data"
    },
    {
     "data": {
      "image/png": "[encoded data removed]",
      "text/plain": [
       "<Figure size 500x500 with 1 Axes>"
      ]
     },
     "metadata": {},
     "output_type": "display_data"
    },
    {
     "name": "stdout",
     "output_type": "stream",
     "text": [
      "Physical Activity Level\n",
      "-0.007160143092457646\n"
     ]
    },
    {
     "data": {
      "text/plain": [
       "<Figure size 640x480 with 0 Axes>"
      ]
     },
     "metadata": {},
     "output_type": "display_data"
    },
    {
     "data": {
      "image/png": "[encoded data removed]",
      "text/plain": [
       "<Figure size 500x500 with 1 Axes>"
      ]
     },
     "metadata": {},
     "output_type": "display_data"
    },
    {
     "name": "stdout",
     "output_type": "stream",
     "text": [
      "Stress Level\n",
      "0.21083069461324683\n"
     ]
    },
    {
     "data": {
      "text/plain": [
       "<Figure size 640x480 with 0 Axes>"
      ]
     },
     "metadata": {},
     "output_type": "display_data"
    },
    {
     "data": {
      "image/png": "[encoded data removed]",
      "text/plain": [
       "<Figure size 500x500 with 1 Axes>"
      ]
     },
     "metadata": {},
     "output_type": "display_data"
    },
    {
     "name": "stdout",
     "output_type": "stream",
     "text": [
      "Daily Steps\n",
      "0.1625016965165984\n"
     ]
    },
    {
     "data": {
      "text/plain": [
       "<Figure size 640x480 with 0 Axes>"
      ]
     },
     "metadata": {},
     "output_type": "display_data"
    },
    {
     "data": {
      "image/png": "[encoded data removed]",
      "text/plain": [
       "<Figure size 500x500 with 1 Axes>"
      ]
     },
     "metadata": {},
     "output_type": "display_data"
    }
   ],
   "source": [
    "for i in x[col]:\n",
    "    print(i)\n",
    "    print(skew(x[i]))\n",
    "    \n",
    "    plt.figure()\n",
    "    sns.displot(x[i])\n",
    "    plt.show()"
   ]
  },
  {
   "cell_type": "markdown",
   "id": "513268a2",
   "metadata": {},
   "source": [
    "## ENCODING"
   ]
  },
  {
   "cell_type": "code",
   "execution_count": 41,
   "id": "67cf44d7",
   "metadata": {},
   "outputs": [],
   "source": [
    "from sklearn.preprocessing import OrdinalEncoder\n",
    "oe = OrdinalEncoder()"
   ]
  },
  {
   "cell_type": "code",
   "execution_count": 42,
   "id": "8d61aacd",
   "metadata": {},
   "outputs": [
    {
     "data": {
      "text/html": [
       "<div>\n",
       "<style scoped>\n",
       "    .dataframe tbody tr th:only-of-type {\n",
       "        vertical-align: middle;\n",
       "    }\n",
       "\n",
       "    .dataframe tbody tr th {\n",
       "        vertical-align: top;\n",
       "    }\n",
       "\n",
       "    .dataframe thead th {\n",
       "        text-align: right;\n",
       "    }\n",
       "</style>\n",
       "<table border=\"1\" class=\"dataframe\">\n",
       "  <thead>\n",
       "    <tr style=\"text-align: right;\">\n",
       "      <th></th>\n",
       "      <th>Gender</th>\n",
       "      <th>Age</th>\n",
       "      <th>Occupation</th>\n",
       "      <th>Sleep Duration</th>\n",
       "      <th>Quality of Sleep</th>\n",
       "      <th>Physical Activity Level</th>\n",
       "      <th>Stress Level</th>\n",
       "      <th>BMI Category</th>\n",
       "      <th>Blood Pressure</th>\n",
       "      <th>Daily Steps</th>\n",
       "      <th>Sleep Disorder</th>\n",
       "    </tr>\n",
       "  </thead>\n",
       "  <tbody>\n",
       "    <tr>\n",
       "      <th>0</th>\n",
       "      <td>Male</td>\n",
       "      <td>27</td>\n",
       "      <td>Software Engineer</td>\n",
       "      <td>6.1</td>\n",
       "      <td>6</td>\n",
       "      <td>42</td>\n",
       "      <td>6</td>\n",
       "      <td>Overweight</td>\n",
       "      <td>126/83</td>\n",
       "      <td>4200</td>\n",
       "      <td>None</td>\n",
       "    </tr>\n",
       "    <tr>\n",
       "      <th>3</th>\n",
       "      <td>Male</td>\n",
       "      <td>28</td>\n",
       "      <td>Sales Representative</td>\n",
       "      <td>5.9</td>\n",
       "      <td>4</td>\n",
       "      <td>30</td>\n",
       "      <td>8</td>\n",
       "      <td>Obese</td>\n",
       "      <td>140/90</td>\n",
       "      <td>3000</td>\n",
       "      <td>Sleep Apnea</td>\n",
       "    </tr>\n",
       "    <tr>\n",
       "      <th>4</th>\n",
       "      <td>Male</td>\n",
       "      <td>28</td>\n",
       "      <td>Sales Representative</td>\n",
       "      <td>5.9</td>\n",
       "      <td>4</td>\n",
       "      <td>30</td>\n",
       "      <td>8</td>\n",
       "      <td>Obese</td>\n",
       "      <td>140/90</td>\n",
       "      <td>3000</td>\n",
       "      <td>Sleep Apnea</td>\n",
       "    </tr>\n",
       "    <tr>\n",
       "      <th>5</th>\n",
       "      <td>Male</td>\n",
       "      <td>28</td>\n",
       "      <td>Software Engineer</td>\n",
       "      <td>5.9</td>\n",
       "      <td>4</td>\n",
       "      <td>30</td>\n",
       "      <td>8</td>\n",
       "      <td>Obese</td>\n",
       "      <td>140/90</td>\n",
       "      <td>3000</td>\n",
       "      <td>Insomnia</td>\n",
       "    </tr>\n",
       "    <tr>\n",
       "      <th>7</th>\n",
       "      <td>Male</td>\n",
       "      <td>29</td>\n",
       "      <td>Doctor</td>\n",
       "      <td>7.8</td>\n",
       "      <td>7</td>\n",
       "      <td>75</td>\n",
       "      <td>6</td>\n",
       "      <td>Normal</td>\n",
       "      <td>120/80</td>\n",
       "      <td>8000</td>\n",
       "      <td>None</td>\n",
       "    </tr>\n",
       "    <tr>\n",
       "      <th>...</th>\n",
       "      <td>...</td>\n",
       "      <td>...</td>\n",
       "      <td>...</td>\n",
       "      <td>...</td>\n",
       "      <td>...</td>\n",
       "      <td>...</td>\n",
       "      <td>...</td>\n",
       "      <td>...</td>\n",
       "      <td>...</td>\n",
       "      <td>...</td>\n",
       "      <td>...</td>\n",
       "    </tr>\n",
       "    <tr>\n",
       "      <th>369</th>\n",
       "      <td>Female</td>\n",
       "      <td>59</td>\n",
       "      <td>Nurse</td>\n",
       "      <td>8.1</td>\n",
       "      <td>9</td>\n",
       "      <td>75</td>\n",
       "      <td>3</td>\n",
       "      <td>Overweight</td>\n",
       "      <td>140/95</td>\n",
       "      <td>7000</td>\n",
       "      <td>Sleep Apnea</td>\n",
       "    </tr>\n",
       "    <tr>\n",
       "      <th>370</th>\n",
       "      <td>Female</td>\n",
       "      <td>59</td>\n",
       "      <td>Nurse</td>\n",
       "      <td>8.0</td>\n",
       "      <td>9</td>\n",
       "      <td>75</td>\n",
       "      <td>3</td>\n",
       "      <td>Overweight</td>\n",
       "      <td>140/95</td>\n",
       "      <td>7000</td>\n",
       "      <td>Sleep Apnea</td>\n",
       "    </tr>\n",
       "    <tr>\n",
       "      <th>371</th>\n",
       "      <td>Female</td>\n",
       "      <td>59</td>\n",
       "      <td>Nurse</td>\n",
       "      <td>8.1</td>\n",
       "      <td>9</td>\n",
       "      <td>75</td>\n",
       "      <td>3</td>\n",
       "      <td>Overweight</td>\n",
       "      <td>140/95</td>\n",
       "      <td>7000</td>\n",
       "      <td>Sleep Apnea</td>\n",
       "    </tr>\n",
       "    <tr>\n",
       "      <th>372</th>\n",
       "      <td>Female</td>\n",
       "      <td>59</td>\n",
       "      <td>Nurse</td>\n",
       "      <td>8.1</td>\n",
       "      <td>9</td>\n",
       "      <td>75</td>\n",
       "      <td>3</td>\n",
       "      <td>Overweight</td>\n",
       "      <td>140/95</td>\n",
       "      <td>7000</td>\n",
       "      <td>Sleep Apnea</td>\n",
       "    </tr>\n",
       "    <tr>\n",
       "      <th>373</th>\n",
       "      <td>Female</td>\n",
       "      <td>59</td>\n",
       "      <td>Nurse</td>\n",
       "      <td>8.1</td>\n",
       "      <td>9</td>\n",
       "      <td>75</td>\n",
       "      <td>3</td>\n",
       "      <td>Overweight</td>\n",
       "      <td>140/95</td>\n",
       "      <td>7000</td>\n",
       "      <td>Sleep Apnea</td>\n",
       "    </tr>\n",
       "  </tbody>\n",
       "</table>\n",
       "<p>342 rows × 11 columns</p>\n",
       "</div>"
      ],
      "text/plain": [
       "     Gender  Age            Occupation  Sleep Duration  Quality of Sleep  \\\n",
       "0      Male   27     Software Engineer             6.1                 6   \n",
       "3      Male   28  Sales Representative             5.9                 4   \n",
       "4      Male   28  Sales Representative             5.9                 4   \n",
       "5      Male   28     Software Engineer             5.9                 4   \n",
       "7      Male   29                Doctor             7.8                 7   \n",
       "..      ...  ...                   ...             ...               ...   \n",
       "369  Female   59                 Nurse             8.1                 9   \n",
       "370  Female   59                 Nurse             8.0                 9   \n",
       "371  Female   59                 Nurse             8.1                 9   \n",
       "372  Female   59                 Nurse             8.1                 9   \n",
       "373  Female   59                 Nurse             8.1                 9   \n",
       "\n",
       "     Physical Activity Level  Stress Level BMI Category Blood Pressure  \\\n",
       "0                         42             6   Overweight         126/83   \n",
       "3                         30             8        Obese         140/90   \n",
       "4                         30             8        Obese         140/90   \n",
       "5                         30             8        Obese         140/90   \n",
       "7                         75             6       Normal         120/80   \n",
       "..                       ...           ...          ...            ...   \n",
       "369                       75             3   Overweight         140/95   \n",
       "370                       75             3   Overweight         140/95   \n",
       "371                       75             3   Overweight         140/95   \n",
       "372                       75             3   Overweight         140/95   \n",
       "373                       75             3   Overweight         140/95   \n",
       "\n",
       "     Daily Steps Sleep Disorder  \n",
       "0           4200           None  \n",
       "3           3000    Sleep Apnea  \n",
       "4           3000    Sleep Apnea  \n",
       "5           3000       Insomnia  \n",
       "7           8000           None  \n",
       "..           ...            ...  \n",
       "369         7000    Sleep Apnea  \n",
       "370         7000    Sleep Apnea  \n",
       "371         7000    Sleep Apnea  \n",
       "372         7000    Sleep Apnea  \n",
       "373         7000    Sleep Apnea  \n",
       "\n",
       "[342 rows x 11 columns]"
      ]
     },
     "execution_count": 42,
     "metadata": {},
     "output_type": "execute_result"
    }
   ],
   "source": [
    "x"
   ]
  },
  {
   "cell_type": "code",
   "execution_count": 43,
   "id": "378626ee",
   "metadata": {},
   "outputs": [
    {
     "data": {
      "text/plain": [
       "array([[1., 9., 3., 1.],\n",
       "       [1., 6., 2., 2.],\n",
       "       [1., 6., 2., 2.],\n",
       "       ...,\n",
       "       [0., 5., 3., 2.],\n",
       "       [0., 5., 3., 2.],\n",
       "       [0., 5., 3., 2.]])"
      ]
     },
     "execution_count": 43,
     "metadata": {},
     "output_type": "execute_result"
    }
   ],
   "source": [
    "oe.fit_transform(x[['Gender','Occupation','BMI Category','Sleep Disorder']])"
   ]
  },
  {
   "cell_type": "code",
   "execution_count": 44,
   "id": "8b68c0ba",
   "metadata": {},
   "outputs": [
    {
     "data": {
      "text/plain": [
       "Index(['Gender', 'Occupation', 'BMI Category', 'Blood Pressure',\n",
       "       'Sleep Disorder'],\n",
       "      dtype='object')"
      ]
     },
     "execution_count": 44,
     "metadata": {},
     "output_type": "execute_result"
    }
   ],
   "source": [
    "x.select_dtypes(object).columns"
   ]
  },
  {
   "cell_type": "code",
   "execution_count": 45,
   "id": "ef31f782",
   "metadata": {},
   "outputs": [],
   "source": [
    "catcol = x.select_dtypes(object).columns"
   ]
  },
  {
   "cell_type": "code",
   "execution_count": 46,
   "id": "332fb70f",
   "metadata": {},
   "outputs": [],
   "source": [
    "x[catcol] = oe.fit_transform(x[catcol])"
   ]
  },
  {
   "cell_type": "code",
   "execution_count": 47,
   "id": "e970449f",
   "metadata": {
    "scrolled": false
   },
   "outputs": [
    {
     "data": {
      "text/html": [
       "<div>\n",
       "<style scoped>\n",
       "    .dataframe tbody tr th:only-of-type {\n",
       "        vertical-align: middle;\n",
       "    }\n",
       "\n",
       "    .dataframe tbody tr th {\n",
       "        vertical-align: top;\n",
       "    }\n",
       "\n",
       "    .dataframe thead th {\n",
       "        text-align: right;\n",
       "    }\n",
       "</style>\n",
       "<table border=\"1\" class=\"dataframe\">\n",
       "  <thead>\n",
       "    <tr style=\"text-align: right;\">\n",
       "      <th></th>\n",
       "      <th>Gender</th>\n",
       "      <th>Age</th>\n",
       "      <th>Occupation</th>\n",
       "      <th>Sleep Duration</th>\n",
       "      <th>Quality of Sleep</th>\n",
       "      <th>Physical Activity Level</th>\n",
       "      <th>Stress Level</th>\n",
       "      <th>BMI Category</th>\n",
       "      <th>Blood Pressure</th>\n",
       "      <th>Daily Steps</th>\n",
       "      <th>Sleep Disorder</th>\n",
       "    </tr>\n",
       "  </thead>\n",
       "  <tbody>\n",
       "    <tr>\n",
       "      <th>0</th>\n",
       "      <td>1.0</td>\n",
       "      <td>27</td>\n",
       "      <td>9.0</td>\n",
       "      <td>6.1</td>\n",
       "      <td>6</td>\n",
       "      <td>42</td>\n",
       "      <td>6</td>\n",
       "      <td>3.0</td>\n",
       "      <td>10.0</td>\n",
       "      <td>4200</td>\n",
       "      <td>1.0</td>\n",
       "    </tr>\n",
       "    <tr>\n",
       "      <th>3</th>\n",
       "      <td>1.0</td>\n",
       "      <td>28</td>\n",
       "      <td>6.0</td>\n",
       "      <td>5.9</td>\n",
       "      <td>4</td>\n",
       "      <td>30</td>\n",
       "      <td>8</td>\n",
       "      <td>2.0</td>\n",
       "      <td>17.0</td>\n",
       "      <td>3000</td>\n",
       "      <td>2.0</td>\n",
       "    </tr>\n",
       "    <tr>\n",
       "      <th>4</th>\n",
       "      <td>1.0</td>\n",
       "      <td>28</td>\n",
       "      <td>6.0</td>\n",
       "      <td>5.9</td>\n",
       "      <td>4</td>\n",
       "      <td>30</td>\n",
       "      <td>8</td>\n",
       "      <td>2.0</td>\n",
       "      <td>17.0</td>\n",
       "      <td>3000</td>\n",
       "      <td>2.0</td>\n",
       "    </tr>\n",
       "    <tr>\n",
       "      <th>5</th>\n",
       "      <td>1.0</td>\n",
       "      <td>28</td>\n",
       "      <td>9.0</td>\n",
       "      <td>5.9</td>\n",
       "      <td>4</td>\n",
       "      <td>30</td>\n",
       "      <td>8</td>\n",
       "      <td>2.0</td>\n",
       "      <td>17.0</td>\n",
       "      <td>3000</td>\n",
       "      <td>0.0</td>\n",
       "    </tr>\n",
       "    <tr>\n",
       "      <th>7</th>\n",
       "      <td>1.0</td>\n",
       "      <td>29</td>\n",
       "      <td>1.0</td>\n",
       "      <td>7.8</td>\n",
       "      <td>7</td>\n",
       "      <td>75</td>\n",
       "      <td>6</td>\n",
       "      <td>0.0</td>\n",
       "      <td>5.0</td>\n",
       "      <td>8000</td>\n",
       "      <td>1.0</td>\n",
       "    </tr>\n",
       "    <tr>\n",
       "      <th>...</th>\n",
       "      <td>...</td>\n",
       "      <td>...</td>\n",
       "      <td>...</td>\n",
       "      <td>...</td>\n",
       "      <td>...</td>\n",
       "      <td>...</td>\n",
       "      <td>...</td>\n",
       "      <td>...</td>\n",
       "      <td>...</td>\n",
       "      <td>...</td>\n",
       "      <td>...</td>\n",
       "    </tr>\n",
       "    <tr>\n",
       "      <th>369</th>\n",
       "      <td>0.0</td>\n",
       "      <td>59</td>\n",
       "      <td>5.0</td>\n",
       "      <td>8.1</td>\n",
       "      <td>9</td>\n",
       "      <td>75</td>\n",
       "      <td>3</td>\n",
       "      <td>3.0</td>\n",
       "      <td>18.0</td>\n",
       "      <td>7000</td>\n",
       "      <td>2.0</td>\n",
       "    </tr>\n",
       "    <tr>\n",
       "      <th>370</th>\n",
       "      <td>0.0</td>\n",
       "      <td>59</td>\n",
       "      <td>5.0</td>\n",
       "      <td>8.0</td>\n",
       "      <td>9</td>\n",
       "      <td>75</td>\n",
       "      <td>3</td>\n",
       "      <td>3.0</td>\n",
       "      <td>18.0</td>\n",
       "      <td>7000</td>\n",
       "      <td>2.0</td>\n",
       "    </tr>\n",
       "    <tr>\n",
       "      <th>371</th>\n",
       "      <td>0.0</td>\n",
       "      <td>59</td>\n",
       "      <td>5.0</td>\n",
       "      <td>8.1</td>\n",
       "      <td>9</td>\n",
       "      <td>75</td>\n",
       "      <td>3</td>\n",
       "      <td>3.0</td>\n",
       "      <td>18.0</td>\n",
       "      <td>7000</td>\n",
       "      <td>2.0</td>\n",
       "    </tr>\n",
       "    <tr>\n",
       "      <th>372</th>\n",
       "      <td>0.0</td>\n",
       "      <td>59</td>\n",
       "      <td>5.0</td>\n",
       "      <td>8.1</td>\n",
       "      <td>9</td>\n",
       "      <td>75</td>\n",
       "      <td>3</td>\n",
       "      <td>3.0</td>\n",
       "      <td>18.0</td>\n",
       "      <td>7000</td>\n",
       "      <td>2.0</td>\n",
       "    </tr>\n",
       "    <tr>\n",
       "      <th>373</th>\n",
       "      <td>0.0</td>\n",
       "      <td>59</td>\n",
       "      <td>5.0</td>\n",
       "      <td>8.1</td>\n",
       "      <td>9</td>\n",
       "      <td>75</td>\n",
       "      <td>3</td>\n",
       "      <td>3.0</td>\n",
       "      <td>18.0</td>\n",
       "      <td>7000</td>\n",
       "      <td>2.0</td>\n",
       "    </tr>\n",
       "  </tbody>\n",
       "</table>\n",
       "<p>342 rows × 11 columns</p>\n",
       "</div>"
      ],
      "text/plain": [
       "     Gender  Age  Occupation  Sleep Duration  Quality of Sleep  \\\n",
       "0       1.0   27         9.0             6.1                 6   \n",
       "3       1.0   28         6.0             5.9                 4   \n",
       "4       1.0   28         6.0             5.9                 4   \n",
       "5       1.0   28         9.0             5.9                 4   \n",
       "7       1.0   29         1.0             7.8                 7   \n",
       "..      ...  ...         ...             ...               ...   \n",
       "369     0.0   59         5.0             8.1                 9   \n",
       "370     0.0   59         5.0             8.0                 9   \n",
       "371     0.0   59         5.0             8.1                 9   \n",
       "372     0.0   59         5.0             8.1                 9   \n",
       "373     0.0   59         5.0             8.1                 9   \n",
       "\n",
       "     Physical Activity Level  Stress Level  BMI Category  Blood Pressure  \\\n",
       "0                         42             6           3.0            10.0   \n",
       "3                         30             8           2.0            17.0   \n",
       "4                         30             8           2.0            17.0   \n",
       "5                         30             8           2.0            17.0   \n",
       "7                         75             6           0.0             5.0   \n",
       "..                       ...           ...           ...             ...   \n",
       "369                       75             3           3.0            18.0   \n",
       "370                       75             3           3.0            18.0   \n",
       "371                       75             3           3.0            18.0   \n",
       "372                       75             3           3.0            18.0   \n",
       "373                       75             3           3.0            18.0   \n",
       "\n",
       "     Daily Steps  Sleep Disorder  \n",
       "0           4200             1.0  \n",
       "3           3000             2.0  \n",
       "4           3000             2.0  \n",
       "5           3000             0.0  \n",
       "7           8000             1.0  \n",
       "..           ...             ...  \n",
       "369         7000             2.0  \n",
       "370         7000             2.0  \n",
       "371         7000             2.0  \n",
       "372         7000             2.0  \n",
       "373         7000             2.0  \n",
       "\n",
       "[342 rows x 11 columns]"
      ]
     },
     "execution_count": 47,
     "metadata": {},
     "output_type": "execute_result"
    }
   ],
   "source": [
    "x"
   ]
  },
  {
   "cell_type": "markdown",
   "id": "a8eab35b",
   "metadata": {},
   "source": [
    "## SPLIT THE DATA INTO TRAINING AND TESTING"
   ]
  },
  {
   "cell_type": "code",
   "execution_count": 54,
   "id": "70f1dd7f",
   "metadata": {},
   "outputs": [],
   "source": [
    "from sklearn.model_selection import train_test_split\n",
    "xtrain,xtest,ytrain,ytest=train_test_split(x,y,test_size=0.25,random_state=1)"
   ]
  },
  {
   "cell_type": "markdown",
   "id": "f7608f14",
   "metadata": {},
   "source": [
    "## 1 - Predicting the data using Linear Regression"
   ]
  },
  {
   "cell_type": "code",
   "execution_count": 55,
   "id": "53135762",
   "metadata": {},
   "outputs": [],
   "source": [
    "from sklearn.linear_model import LinearRegression\n",
    "lr=LinearRegression()\n",
    "lr.fit(xtrain,ytrain)\n",
    "ypred=lr.predict(xtest)"
   ]
  },
  {
   "cell_type": "code",
   "execution_count": 56,
   "id": "1857028e",
   "metadata": {},
   "outputs": [
    {
     "data": {
      "text/plain": [
       "array([67.10118174, 66.76812582, 70.25688404, 75.33968948, 67.67742213,\n",
       "       68.01131766, 66.9702696 , 69.29588335, 66.98808028, 71.51591642,\n",
       "       66.9702696 , 67.57635024, 66.76812582, 69.52328923, 71.36033102,\n",
       "       75.33968948, 65.11797974, 65.19499249, 65.11797974, 67.56432067,\n",
       "       65.13000931, 67.01213942, 75.44076137, 71.36033102, 68.11238955,\n",
       "       67.01213942, 65.21905163, 75.44076137, 68.1894023 , 75.25064716,\n",
       "       70.91705907, 71.51591642, 67.86846564, 67.10118174, 71.27128871,\n",
       "       68.1894023 , 73.02583856, 65.67598702, 67.67742213, 66.9702696 ,\n",
       "       65.13000931, 69.52328923, 71.50388685, 67.66539255, 67.99928809,\n",
       "       67.05931192, 67.07712259, 69.71181881, 68.01131766, 73.55022054,\n",
       "       75.35171905, 72.70101662, 65.13000931, 65.21905163, 70.25688404,\n",
       "       71.32580221, 77.89218268, 67.57635024, 68.11238955, 67.66539255,\n",
       "       68.25252466, 66.98808028, 67.67742213, 68.07300527, 72.82369478,\n",
       "       65.82937983, 67.08915217, 67.99928809, 68.1894023 , 68.56644023,\n",
       "       72.83572435, 65.11797974, 65.13000931, 67.75443487, 68.21346144,\n",
       "       67.75443487, 71.4621243 , 75.23861759, 67.10118174, 67.66539255,\n",
       "       72.82369478, 70.35795592, 66.76812582, 71.17021682, 72.28034192,\n",
       "       65.21905163])"
      ]
     },
     "execution_count": 56,
     "metadata": {},
     "output_type": "execute_result"
    }
   ],
   "source": [
    "ypred"
   ]
  },
  {
   "cell_type": "code",
   "execution_count": 57,
   "id": "320c259d",
   "metadata": {},
   "outputs": [
    {
     "data": {
      "text/html": [
       "<div>\n",
       "<style scoped>\n",
       "    .dataframe tbody tr th:only-of-type {\n",
       "        vertical-align: middle;\n",
       "    }\n",
       "\n",
       "    .dataframe tbody tr th {\n",
       "        vertical-align: top;\n",
       "    }\n",
       "\n",
       "    .dataframe thead th {\n",
       "        text-align: right;\n",
       "    }\n",
       "</style>\n",
       "<table border=\"1\" class=\"dataframe\">\n",
       "  <thead>\n",
       "    <tr style=\"text-align: right;\">\n",
       "      <th></th>\n",
       "      <th>Gender</th>\n",
       "      <th>Age</th>\n",
       "      <th>Occupation</th>\n",
       "      <th>Sleep Duration</th>\n",
       "      <th>Quality of Sleep</th>\n",
       "      <th>Physical Activity Level</th>\n",
       "      <th>Stress Level</th>\n",
       "      <th>BMI Category</th>\n",
       "      <th>Blood Pressure</th>\n",
       "      <th>Daily Steps</th>\n",
       "      <th>Sleep Disorder</th>\n",
       "    </tr>\n",
       "  </thead>\n",
       "  <tbody>\n",
       "    <tr>\n",
       "      <th>298</th>\n",
       "      <td>0.0</td>\n",
       "      <td>51</td>\n",
       "      <td>2.0</td>\n",
       "      <td>8.5</td>\n",
       "      <td>9</td>\n",
       "      <td>30</td>\n",
       "      <td>3</td>\n",
       "      <td>0.0</td>\n",
       "      <td>8.0</td>\n",
       "      <td>5000</td>\n",
       "      <td>1.0</td>\n",
       "    </tr>\n",
       "    <tr>\n",
       "      <th>65</th>\n",
       "      <td>1.0</td>\n",
       "      <td>32</td>\n",
       "      <td>1.0</td>\n",
       "      <td>6.2</td>\n",
       "      <td>6</td>\n",
       "      <td>30</td>\n",
       "      <td>8</td>\n",
       "      <td>0.0</td>\n",
       "      <td>8.0</td>\n",
       "      <td>5000</td>\n",
       "      <td>1.0</td>\n",
       "    </tr>\n",
       "    <tr>\n",
       "      <th>206</th>\n",
       "      <td>1.0</td>\n",
       "      <td>43</td>\n",
       "      <td>2.0</td>\n",
       "      <td>7.7</td>\n",
       "      <td>8</td>\n",
       "      <td>90</td>\n",
       "      <td>5</td>\n",
       "      <td>0.0</td>\n",
       "      <td>12.0</td>\n",
       "      <td>8000</td>\n",
       "      <td>1.0</td>\n",
       "    </tr>\n",
       "    <tr>\n",
       "      <th>190</th>\n",
       "      <td>0.0</td>\n",
       "      <td>43</td>\n",
       "      <td>10.0</td>\n",
       "      <td>6.7</td>\n",
       "      <td>7</td>\n",
       "      <td>45</td>\n",
       "      <td>4</td>\n",
       "      <td>3.0</td>\n",
       "      <td>16.0</td>\n",
       "      <td>6000</td>\n",
       "      <td>0.0</td>\n",
       "    </tr>\n",
       "    <tr>\n",
       "      <th>213</th>\n",
       "      <td>1.0</td>\n",
       "      <td>43</td>\n",
       "      <td>2.0</td>\n",
       "      <td>7.8</td>\n",
       "      <td>8</td>\n",
       "      <td>90</td>\n",
       "      <td>5</td>\n",
       "      <td>0.0</td>\n",
       "      <td>12.0</td>\n",
       "      <td>8000</td>\n",
       "      <td>1.0</td>\n",
       "    </tr>\n",
       "    <tr>\n",
       "      <th>...</th>\n",
       "      <td>...</td>\n",
       "      <td>...</td>\n",
       "      <td>...</td>\n",
       "      <td>...</td>\n",
       "      <td>...</td>\n",
       "      <td>...</td>\n",
       "      <td>...</td>\n",
       "      <td>...</td>\n",
       "      <td>...</td>\n",
       "      <td>...</td>\n",
       "      <td>...</td>\n",
       "    </tr>\n",
       "    <tr>\n",
       "      <th>224</th>\n",
       "      <td>0.0</td>\n",
       "      <td>44</td>\n",
       "      <td>10.0</td>\n",
       "      <td>6.6</td>\n",
       "      <td>7</td>\n",
       "      <td>45</td>\n",
       "      <td>4</td>\n",
       "      <td>3.0</td>\n",
       "      <td>16.0</td>\n",
       "      <td>6000</td>\n",
       "      <td>0.0</td>\n",
       "    </tr>\n",
       "    <tr>\n",
       "      <th>281</th>\n",
       "      <td>0.0</td>\n",
       "      <td>50</td>\n",
       "      <td>5.0</td>\n",
       "      <td>6.1</td>\n",
       "      <td>6</td>\n",
       "      <td>90</td>\n",
       "      <td>8</td>\n",
       "      <td>3.0</td>\n",
       "      <td>18.0</td>\n",
       "      <td>10000</td>\n",
       "      <td>2.0</td>\n",
       "    </tr>\n",
       "    <tr>\n",
       "      <th>75</th>\n",
       "      <td>1.0</td>\n",
       "      <td>33</td>\n",
       "      <td>1.0</td>\n",
       "      <td>6.0</td>\n",
       "      <td>6</td>\n",
       "      <td>30</td>\n",
       "      <td>8</td>\n",
       "      <td>0.0</td>\n",
       "      <td>8.0</td>\n",
       "      <td>5000</td>\n",
       "      <td>1.0</td>\n",
       "    </tr>\n",
       "    <tr>\n",
       "      <th>257</th>\n",
       "      <td>0.0</td>\n",
       "      <td>45</td>\n",
       "      <td>10.0</td>\n",
       "      <td>6.6</td>\n",
       "      <td>7</td>\n",
       "      <td>45</td>\n",
       "      <td>4</td>\n",
       "      <td>3.0</td>\n",
       "      <td>16.0</td>\n",
       "      <td>6000</td>\n",
       "      <td>0.0</td>\n",
       "    </tr>\n",
       "    <tr>\n",
       "      <th>40</th>\n",
       "      <td>1.0</td>\n",
       "      <td>31</td>\n",
       "      <td>1.0</td>\n",
       "      <td>7.7</td>\n",
       "      <td>7</td>\n",
       "      <td>75</td>\n",
       "      <td>6</td>\n",
       "      <td>0.0</td>\n",
       "      <td>5.0</td>\n",
       "      <td>8000</td>\n",
       "      <td>1.0</td>\n",
       "    </tr>\n",
       "  </tbody>\n",
       "</table>\n",
       "<p>256 rows × 11 columns</p>\n",
       "</div>"
      ],
      "text/plain": [
       "     Gender  Age  Occupation  Sleep Duration  Quality of Sleep  \\\n",
       "298     0.0   51         2.0             8.5                 9   \n",
       "65      1.0   32         1.0             6.2                 6   \n",
       "206     1.0   43         2.0             7.7                 8   \n",
       "190     0.0   43        10.0             6.7                 7   \n",
       "213     1.0   43         2.0             7.8                 8   \n",
       "..      ...  ...         ...             ...               ...   \n",
       "224     0.0   44        10.0             6.6                 7   \n",
       "281     0.0   50         5.0             6.1                 6   \n",
       "75      1.0   33         1.0             6.0                 6   \n",
       "257     0.0   45        10.0             6.6                 7   \n",
       "40      1.0   31         1.0             7.7                 7   \n",
       "\n",
       "     Physical Activity Level  Stress Level  BMI Category  Blood Pressure  \\\n",
       "298                       30             3           0.0             8.0   \n",
       "65                        30             8           0.0             8.0   \n",
       "206                       90             5           0.0            12.0   \n",
       "190                       45             4           3.0            16.0   \n",
       "213                       90             5           0.0            12.0   \n",
       "..                       ...           ...           ...             ...   \n",
       "224                       45             4           3.0            16.0   \n",
       "281                       90             8           3.0            18.0   \n",
       "75                        30             8           0.0             8.0   \n",
       "257                       45             4           3.0            16.0   \n",
       "40                        75             6           0.0             5.0   \n",
       "\n",
       "     Daily Steps  Sleep Disorder  \n",
       "298         5000             1.0  \n",
       "65          5000             1.0  \n",
       "206         8000             1.0  \n",
       "190         6000             0.0  \n",
       "213         8000             1.0  \n",
       "..           ...             ...  \n",
       "224         6000             0.0  \n",
       "281        10000             2.0  \n",
       "75          5000             1.0  \n",
       "257         6000             0.0  \n",
       "40          8000             1.0  \n",
       "\n",
       "[256 rows x 11 columns]"
      ]
     },
     "execution_count": 57,
     "metadata": {},
     "output_type": "execute_result"
    }
   ],
   "source": [
    "xtrain"
   ]
  },
  {
   "cell_type": "code",
   "execution_count": 58,
   "id": "c5e25e11",
   "metadata": {},
   "outputs": [
    {
     "data": {
      "text/plain": [
       "298    65\n",
       "65     72\n",
       "206    70\n",
       "190    65\n",
       "213    70\n",
       "       ..\n",
       "224    65\n",
       "281    75\n",
       "75     72\n",
       "257    65\n",
       "40     70\n",
       "Name: Heart Rate, Length: 256, dtype: int64"
      ]
     },
     "execution_count": 58,
     "metadata": {},
     "output_type": "execute_result"
    }
   ],
   "source": [
    "ytrain"
   ]
  },
  {
   "cell_type": "code",
   "execution_count": 59,
   "id": "d3ec25b4",
   "metadata": {},
   "outputs": [
    {
     "data": {
      "text/html": [
       "<div>\n",
       "<style scoped>\n",
       "    .dataframe tbody tr th:only-of-type {\n",
       "        vertical-align: middle;\n",
       "    }\n",
       "\n",
       "    .dataframe tbody tr th {\n",
       "        vertical-align: top;\n",
       "    }\n",
       "\n",
       "    .dataframe thead th {\n",
       "        text-align: right;\n",
       "    }\n",
       "</style>\n",
       "<table border=\"1\" class=\"dataframe\">\n",
       "  <thead>\n",
       "    <tr style=\"text-align: right;\">\n",
       "      <th></th>\n",
       "      <th>Gender</th>\n",
       "      <th>Age</th>\n",
       "      <th>Occupation</th>\n",
       "      <th>Sleep Duration</th>\n",
       "      <th>Quality of Sleep</th>\n",
       "      <th>Physical Activity Level</th>\n",
       "      <th>Stress Level</th>\n",
       "      <th>BMI Category</th>\n",
       "      <th>Blood Pressure</th>\n",
       "      <th>Daily Steps</th>\n",
       "      <th>Sleep Disorder</th>\n",
       "    </tr>\n",
       "  </thead>\n",
       "  <tbody>\n",
       "    <tr>\n",
       "      <th>116</th>\n",
       "      <td>0.0</td>\n",
       "      <td>37</td>\n",
       "      <td>0.0</td>\n",
       "      <td>7.2</td>\n",
       "      <td>8</td>\n",
       "      <td>60</td>\n",
       "      <td>4</td>\n",
       "      <td>0.0</td>\n",
       "      <td>0.0</td>\n",
       "      <td>7000</td>\n",
       "      <td>1.0</td>\n",
       "    </tr>\n",
       "    <tr>\n",
       "      <th>139</th>\n",
       "      <td>1.0</td>\n",
       "      <td>38</td>\n",
       "      <td>3.0</td>\n",
       "      <td>7.1</td>\n",
       "      <td>8</td>\n",
       "      <td>60</td>\n",
       "      <td>5</td>\n",
       "      <td>0.0</td>\n",
       "      <td>12.0</td>\n",
       "      <td>8000</td>\n",
       "      <td>1.0</td>\n",
       "    </tr>\n",
       "    <tr>\n",
       "      <th>14</th>\n",
       "      <td>1.0</td>\n",
       "      <td>29</td>\n",
       "      <td>1.0</td>\n",
       "      <td>6.0</td>\n",
       "      <td>6</td>\n",
       "      <td>30</td>\n",
       "      <td>8</td>\n",
       "      <td>0.0</td>\n",
       "      <td>5.0</td>\n",
       "      <td>8000</td>\n",
       "      <td>1.0</td>\n",
       "    </tr>\n",
       "    <tr>\n",
       "      <th>272</th>\n",
       "      <td>0.0</td>\n",
       "      <td>49</td>\n",
       "      <td>5.0</td>\n",
       "      <td>6.1</td>\n",
       "      <td>6</td>\n",
       "      <td>90</td>\n",
       "      <td>8</td>\n",
       "      <td>3.0</td>\n",
       "      <td>18.0</td>\n",
       "      <td>10000</td>\n",
       "      <td>2.0</td>\n",
       "    </tr>\n",
       "    <tr>\n",
       "      <th>260</th>\n",
       "      <td>0.0</td>\n",
       "      <td>45</td>\n",
       "      <td>10.0</td>\n",
       "      <td>6.6</td>\n",
       "      <td>7</td>\n",
       "      <td>45</td>\n",
       "      <td>4</td>\n",
       "      <td>3.0</td>\n",
       "      <td>16.0</td>\n",
       "      <td>6000</td>\n",
       "      <td>0.0</td>\n",
       "    </tr>\n",
       "    <tr>\n",
       "      <th>...</th>\n",
       "      <td>...</td>\n",
       "      <td>...</td>\n",
       "      <td>...</td>\n",
       "      <td>...</td>\n",
       "      <td>...</td>\n",
       "      <td>...</td>\n",
       "      <td>...</td>\n",
       "      <td>...</td>\n",
       "      <td>...</td>\n",
       "      <td>...</td>\n",
       "      <td>...</td>\n",
       "    </tr>\n",
       "    <tr>\n",
       "      <th>12</th>\n",
       "      <td>1.0</td>\n",
       "      <td>29</td>\n",
       "      <td>1.0</td>\n",
       "      <td>6.1</td>\n",
       "      <td>6</td>\n",
       "      <td>30</td>\n",
       "      <td>8</td>\n",
       "      <td>0.0</td>\n",
       "      <td>5.0</td>\n",
       "      <td>8000</td>\n",
       "      <td>1.0</td>\n",
       "    </tr>\n",
       "    <tr>\n",
       "      <th>141</th>\n",
       "      <td>1.0</td>\n",
       "      <td>38</td>\n",
       "      <td>3.0</td>\n",
       "      <td>7.1</td>\n",
       "      <td>8</td>\n",
       "      <td>60</td>\n",
       "      <td>5</td>\n",
       "      <td>0.0</td>\n",
       "      <td>12.0</td>\n",
       "      <td>8000</td>\n",
       "      <td>1.0</td>\n",
       "    </tr>\n",
       "    <tr>\n",
       "      <th>19</th>\n",
       "      <td>1.0</td>\n",
       "      <td>30</td>\n",
       "      <td>1.0</td>\n",
       "      <td>7.6</td>\n",
       "      <td>7</td>\n",
       "      <td>75</td>\n",
       "      <td>6</td>\n",
       "      <td>0.0</td>\n",
       "      <td>5.0</td>\n",
       "      <td>8000</td>\n",
       "      <td>1.0</td>\n",
       "    </tr>\n",
       "    <tr>\n",
       "      <th>0</th>\n",
       "      <td>1.0</td>\n",
       "      <td>27</td>\n",
       "      <td>9.0</td>\n",
       "      <td>6.1</td>\n",
       "      <td>6</td>\n",
       "      <td>42</td>\n",
       "      <td>6</td>\n",
       "      <td>3.0</td>\n",
       "      <td>10.0</td>\n",
       "      <td>4200</td>\n",
       "      <td>1.0</td>\n",
       "    </tr>\n",
       "    <tr>\n",
       "      <th>316</th>\n",
       "      <td>0.0</td>\n",
       "      <td>53</td>\n",
       "      <td>2.0</td>\n",
       "      <td>8.5</td>\n",
       "      <td>9</td>\n",
       "      <td>30</td>\n",
       "      <td>3</td>\n",
       "      <td>0.0</td>\n",
       "      <td>8.0</td>\n",
       "      <td>5000</td>\n",
       "      <td>1.0</td>\n",
       "    </tr>\n",
       "  </tbody>\n",
       "</table>\n",
       "<p>86 rows × 11 columns</p>\n",
       "</div>"
      ],
      "text/plain": [
       "     Gender  Age  Occupation  Sleep Duration  Quality of Sleep  \\\n",
       "116     0.0   37         0.0             7.2                 8   \n",
       "139     1.0   38         3.0             7.1                 8   \n",
       "14      1.0   29         1.0             6.0                 6   \n",
       "272     0.0   49         5.0             6.1                 6   \n",
       "260     0.0   45        10.0             6.6                 7   \n",
       "..      ...  ...         ...             ...               ...   \n",
       "12      1.0   29         1.0             6.1                 6   \n",
       "141     1.0   38         3.0             7.1                 8   \n",
       "19      1.0   30         1.0             7.6                 7   \n",
       "0       1.0   27         9.0             6.1                 6   \n",
       "316     0.0   53         2.0             8.5                 9   \n",
       "\n",
       "     Physical Activity Level  Stress Level  BMI Category  Blood Pressure  \\\n",
       "116                       60             4           0.0             0.0   \n",
       "139                       60             5           0.0            12.0   \n",
       "14                        30             8           0.0             5.0   \n",
       "272                       90             8           3.0            18.0   \n",
       "260                       45             4           3.0            16.0   \n",
       "..                       ...           ...           ...             ...   \n",
       "12                        30             8           0.0             5.0   \n",
       "141                       60             5           0.0            12.0   \n",
       "19                        75             6           0.0             5.0   \n",
       "0                         42             6           3.0            10.0   \n",
       "316                       30             3           0.0             8.0   \n",
       "\n",
       "     Daily Steps  Sleep Disorder  \n",
       "116         7000             1.0  \n",
       "139         8000             1.0  \n",
       "14          8000             1.0  \n",
       "272        10000             2.0  \n",
       "260         6000             0.0  \n",
       "..           ...             ...  \n",
       "12          8000             1.0  \n",
       "141         8000             1.0  \n",
       "19          8000             1.0  \n",
       "0           4200             1.0  \n",
       "316         5000             1.0  \n",
       "\n",
       "[86 rows x 11 columns]"
      ]
     },
     "execution_count": 59,
     "metadata": {},
     "output_type": "execute_result"
    }
   ],
   "source": [
    "xtest"
   ]
  },
  {
   "cell_type": "code",
   "execution_count": 60,
   "id": "ced6d0f6",
   "metadata": {},
   "outputs": [
    {
     "name": "stdout",
     "output_type": "stream",
     "text": [
      "mae : 1.0581462332320097\n",
      "mse : 2.224487024700786\n",
      "rmse : 1.491471429394739\n",
      "accuracy : 0.8118984046797346\n"
     ]
    }
   ],
   "source": [
    "from sklearn.metrics import mean_absolute_error,mean_squared_error,r2_score\n",
    "mae=mean_absolute_error(ytest,ypred)\n",
    "mse=mean_squared_error(ytest,ypred)\n",
    "rmse=np.sqrt(mse)\n",
    "r2=r2_score(ytest,ypred)\n",
    "\n",
    "print(f'mae : {mae}\\nmse : {mse}\\nrmse : {rmse}\\naccuracy : {r2}')"
   ]
  },
  {
   "cell_type": "markdown",
   "id": "52c0623e",
   "metadata": {},
   "source": [
    "#### We have achieved an Accuracy of 81 % which is good."
   ]
  },
  {
   "cell_type": "markdown",
   "id": "587fc483",
   "metadata": {},
   "source": [
    "## 2 - Predicting the data using Decision Tree"
   ]
  },
  {
   "cell_type": "code",
   "execution_count": 63,
   "id": "d44883e1",
   "metadata": {},
   "outputs": [
    {
     "name": "stdout",
     "output_type": "stream",
     "text": [
      "mae : 1.0581462332320097\n",
      "mse : 2.224487024700786\n",
      "rmse : 1.491471429394739\n",
      "accuracy : 0.8118984046797346\n"
     ]
    }
   ],
   "source": [
    "from sklearn.metrics import mean_absolute_error,mean_squared_error,r2_score\n",
    "mae=mean_absolute_error(ytest,ypred)\n",
    "mse=mean_squared_error(ytest,ypred)\n",
    "rmse=np.sqrt(mse)\n",
    "r2=r2_score(ytest,ypred)\n",
    "\n",
    "print(f'mae : {mae}\\nmse : {mse}\\nrmse : {rmse}\\naccuracy : {r2}')"
   ]
  },
  {
   "cell_type": "code",
   "execution_count": 64,
   "id": "a8faf9ab",
   "metadata": {},
   "outputs": [
    {
     "data": {
      "text/plain": [
       "116    68\n",
       "139    68\n",
       "14     70\n",
       "272    75\n",
       "260    65\n",
       "       ..\n",
       "12     70\n",
       "141    68\n",
       "19     70\n",
       "0      77\n",
       "316    65\n",
       "Name: Heart Rate, Length: 86, dtype: int64"
      ]
     },
     "execution_count": 64,
     "metadata": {},
     "output_type": "execute_result"
    }
   ],
   "source": [
    "ytest"
   ]
  },
  {
   "cell_type": "code",
   "execution_count": 65,
   "id": "a252ee4b",
   "metadata": {},
   "outputs": [],
   "source": [
    "from sklearn import tree\n",
    "from sklearn.tree import DecisionTreeRegressor"
   ]
  },
  {
   "cell_type": "code",
   "execution_count": 66,
   "id": "b96c3a19",
   "metadata": {},
   "outputs": [],
   "source": [
    "def mymodel(model):\n",
    "   model.fit(xtrain,ytrain)\n",
    "   ypred=model.predict(xtest)\n",
    "   print(r2_score(ytest,ypred))"
   ]
  },
  {
   "cell_type": "code",
   "execution_count": 67,
   "id": "98fe5ce5",
   "metadata": {},
   "outputs": [],
   "source": [
    "dt=DecisionTreeRegressor()"
   ]
  },
  {
   "cell_type": "code",
   "execution_count": 68,
   "id": "845191de",
   "metadata": {},
   "outputs": [
    {
     "name": "stdout",
     "output_type": "stream",
     "text": [
      "0.9262562167724233\n"
     ]
    }
   ],
   "source": [
    "mymodel(dt)"
   ]
  },
  {
   "cell_type": "markdown",
   "id": "3ea92bc2",
   "metadata": {},
   "source": [
    "#### By using Decision Tree we get an accuracy of 92% which is good but lets check whether we get more accurcy by hyper tunning ploting decision tree."
   ]
  },
  {
   "cell_type": "markdown",
   "id": "4bed7675",
   "metadata": {},
   "source": [
    "### ploting decision tree"
   ]
  },
  {
   "cell_type": "code",
   "execution_count": 69,
   "id": "75dd647e",
   "metadata": {},
   "outputs": [
    {
     "data": {
      "image/png": "[encoded data removed]",
      "text/plain": [
       "<Figure size 2500x1000 with 1 Axes>"
      ]
     },
     "metadata": {},
     "output_type": "display_data"
    }
   ],
   "source": [
    "plt.figure(figsize=(25,10))\n",
    "chart=tree.plot_tree(dt,max_depth=5,feature_names=x.columns,filled=True,fontsize=10)\n",
    "plt.savefig('abc.jpg')"
   ]
  },
  {
   "cell_type": "code",
   "execution_count": 70,
   "id": "4002ed7e",
   "metadata": {},
   "outputs": [],
   "source": [
    "Train = dt.score(xtrain,ytrain)\n",
    "Test = dt.score(xtest,ytest)"
   ]
  },
  {
   "cell_type": "code",
   "execution_count": 71,
   "id": "300f5798",
   "metadata": {},
   "outputs": [
    {
     "name": "stdout",
     "output_type": "stream",
     "text": [
      "Train score :1.0\n",
      "Test score : 0.9262562167724233\n"
     ]
    }
   ],
   "source": [
    "print(f\"Train score :{Train}\\nTest score : {Test}\")"
   ]
  },
  {
   "cell_type": "markdown",
   "id": "721e924f",
   "metadata": {},
   "source": [
    "### Train acc is high and Test acc is low\n",
    "(low bias high varience)"
   ]
  },
  {
   "cell_type": "markdown",
   "id": "e46e4d79",
   "metadata": {},
   "source": [
    "### HPT"
   ]
  },
  {
   "cell_type": "markdown",
   "id": "f0856b6e",
   "metadata": {},
   "source": [
    "### i - max_depth"
   ]
  },
  {
   "cell_type": "code",
   "execution_count": 75,
   "id": "7c1b70e5",
   "metadata": {},
   "outputs": [
    {
     "name": "stdout",
     "output_type": "stream",
     "text": [
      "max_depth 1  r2_score 0.5938658679418619\n",
      "max_depth 2  r2_score 0.811262840060978\n",
      "max_depth 3  r2_score 0.8911118372933255\n",
      "max_depth 4  r2_score 0.9047064850188985\n",
      "max_depth 5  r2_score 0.9488043491803885\n",
      "max_depth 6  r2_score 0.9252149969155139\n",
      "max_depth 7  r2_score 0.9253092313665502\n",
      "max_depth 8  r2_score 0.9498542274052478\n",
      "max_depth 9  r2_score 0.9262562167724233\n",
      "max_depth 10  r2_score 0.9262562167724233\n",
      "max_depth 11  r2_score 0.9498542274052478\n",
      "max_depth 12  r2_score 0.9262562167724233\n",
      "max_depth 13  r2_score 0.9262562167724233\n",
      "max_depth 14  r2_score 0.9262562167724233\n",
      "max_depth 15  r2_score 0.9262562167724233\n",
      "max_depth 16  r2_score 0.9469044760761447\n",
      "max_depth 17  r2_score 0.9498542274052478\n",
      "max_depth 18  r2_score 0.9498542274052478\n",
      "max_depth 19  r2_score 0.9262562167724233\n",
      "max_depth 20  r2_score 0.9498542274052478\n",
      "max_depth 21  r2_score 0.9469044760761447\n",
      "max_depth 22  r2_score 0.9262562167724233\n",
      "max_depth 23  r2_score 0.9262562167724233\n",
      "max_depth 24  r2_score 0.9498542274052478\n",
      "max_depth 25  r2_score 0.9469044760761447\n",
      "max_depth 26  r2_score 0.9262562167724233\n",
      "max_depth 27  r2_score 0.9498542274052478\n",
      "max_depth 28  r2_score 0.9262562167724233\n",
      "max_depth 29  r2_score 0.9262562167724233\n",
      "max_depth 30  r2_score 0.9498542274052478\n",
      "max_depth 31  r2_score 0.9498542274052478\n",
      "max_depth 32  r2_score 0.9262562167724233\n",
      "max_depth 33  r2_score 0.9469044760761447\n",
      "max_depth 34  r2_score 0.9262562167724233\n",
      "max_depth 35  r2_score 0.9262562167724233\n",
      "max_depth 36  r2_score 0.9262562167724233\n",
      "max_depth 37  r2_score 0.9469044760761447\n",
      "max_depth 38  r2_score 0.9469044760761447\n",
      "max_depth 39  r2_score 0.9262562167724233\n",
      "max_depth 40  r2_score 0.9498542274052478\n",
      "max_depth 41  r2_score 0.9262562167724233\n",
      "max_depth 42  r2_score 0.9262562167724233\n",
      "max_depth 43  r2_score 0.9498542274052478\n",
      "max_depth 44  r2_score 0.9262562167724233\n",
      "max_depth 45  r2_score 0.9498542274052478\n",
      "max_depth 46  r2_score 0.9262562167724233\n",
      "max_depth 47  r2_score 0.9498542274052478\n",
      "max_depth 48  r2_score 0.9498542274052478\n",
      "max_depth 49  r2_score 0.9262562167724233\n"
     ]
    }
   ],
   "source": [
    "for i in range(1,50):\n",
    "    dt1= DecisionTreeRegressor(max_depth=i)\n",
    "    dt1.fit(xtrain,ytrain)\n",
    "    ypred=dt1.predict(xtest)\n",
    "    \n",
    "    rs=r2_score(ytest,ypred)\n",
    "    \n",
    "    print(f\"max_depth {i}  r2_score {rs}\")"
   ]
  },
  {
   "cell_type": "code",
   "execution_count": 76,
   "id": "c48873bc",
   "metadata": {},
   "outputs": [
    {
     "name": "stdout",
     "output_type": "stream",
     "text": [
      "0.8911118372933255\n"
     ]
    }
   ],
   "source": [
    "dt2=DecisionTreeRegressor(max_depth=3)\n",
    "mymodel(dt2)"
   ]
  },
  {
   "cell_type": "code",
   "execution_count": 77,
   "id": "60c2d76b",
   "metadata": {},
   "outputs": [
    {
     "data": {
      "text/plain": [
       "0.9334468939823699"
      ]
     },
     "execution_count": 77,
     "metadata": {},
     "output_type": "execute_result"
    }
   ],
   "source": [
    "dt2.score(xtrain,ytrain)"
   ]
  },
  {
   "cell_type": "code",
   "execution_count": 78,
   "id": "f7272993",
   "metadata": {},
   "outputs": [
    {
     "data": {
      "text/plain": [
       "0.8911118372933255"
      ]
     },
     "execution_count": 78,
     "metadata": {},
     "output_type": "execute_result"
    }
   ],
   "source": [
    "dt2.score(xtest,ytest)"
   ]
  },
  {
   "cell_type": "markdown",
   "id": "2b8a837b",
   "metadata": {},
   "source": [
    "### By using Decision Tree Max Depth function we achive the accuracy of 89%"
   ]
  },
  {
   "cell_type": "markdown",
   "id": "84b4bcb4",
   "metadata": {},
   "source": [
    "### ii - min_samples_split"
   ]
  },
  {
   "cell_type": "code",
   "execution_count": 79,
   "id": "33398858",
   "metadata": {},
   "outputs": [
    {
     "name": "stdout",
     "output_type": "stream",
     "text": [
      "min_samples_split 2  r2_score 0.9498542274052478\n",
      "min_samples_split 3  r2_score 0.9262562167724233\n",
      "min_samples_split 4  r2_score 0.9494172272083437\n",
      "min_samples_split 5  r2_score 0.9488641488341368\n",
      "min_samples_split 6  r2_score 0.9449311470619994\n",
      "min_samples_split 7  r2_score 0.9213331364291749\n",
      "min_samples_split 8  r2_score 0.9449311470619994\n",
      "min_samples_split 9  r2_score 0.9105020182676246\n",
      "min_samples_split 10  r2_score 0.9341000289004491\n",
      "min_samples_split 11  r2_score 0.9105020182676246\n",
      "min_samples_split 12  r2_score 0.9105020182676246\n",
      "min_samples_split 13  r2_score 0.931150277571346\n",
      "min_samples_split 14  r2_score 0.9341000289004491\n",
      "min_samples_split 15  r2_score 0.9105020182676246\n",
      "min_samples_split 16  r2_score 0.931150277571346\n",
      "min_samples_split 17  r2_score 0.9105020182676246\n",
      "min_samples_split 18  r2_score 0.9105020182676246\n",
      "min_samples_split 19  r2_score 0.9105020182676246\n",
      "min_samples_split 20  r2_score 0.9341000289004491\n",
      "min_samples_split 21  r2_score 0.9341000289004491\n",
      "min_samples_split 22  r2_score 0.931150277571346\n",
      "min_samples_split 23  r2_score 0.9105020182676246\n",
      "min_samples_split 24  r2_score 0.9341000289004491\n",
      "min_samples_split 25  r2_score 0.9105020182676246\n",
      "min_samples_split 26  r2_score 0.9341000289004491\n",
      "min_samples_split 27  r2_score 0.9095827663741368\n",
      "min_samples_split 28  r2_score 0.9095827663741368\n",
      "min_samples_split 29  r2_score 0.9095827663741368\n",
      "min_samples_split 30  r2_score 0.9095827663741368\n",
      "min_samples_split 31  r2_score 0.9095827663741368\n",
      "min_samples_split 32  r2_score 0.9303808404642969\n",
      "min_samples_split 33  r2_score 0.9303808404642969\n",
      "min_samples_split 34  r2_score 0.9303808404642969\n",
      "min_samples_split 35  r2_score 0.9303808404642969\n",
      "min_samples_split 36  r2_score 0.9303808404642969\n",
      "min_samples_split 37  r2_score 0.9303808404642969\n",
      "min_samples_split 38  r2_score 0.9095827663741368\n",
      "min_samples_split 39  r2_score 0.9288147213375803\n",
      "min_samples_split 40  r2_score 0.9288147213375803\n",
      "min_samples_split 41  r2_score 0.9288147213375803\n",
      "min_samples_split 42  r2_score 0.9278677359317071\n",
      "min_samples_split 43  r2_score 0.9277735014806708\n",
      "min_samples_split 44  r2_score 0.9277735014806708\n",
      "min_samples_split 45  r2_score 0.9278009982568485\n",
      "min_samples_split 46  r2_score 0.9278009982568485\n",
      "min_samples_split 47  r2_score 0.9068215054045636\n",
      "min_samples_split 48  r2_score 0.9276195794947237\n",
      "min_samples_split 49  r2_score 0.9276195794947237\n"
     ]
    }
   ],
   "source": [
    "for i in range(2,50):\n",
    "    dt3= DecisionTreeRegressor(min_samples_split=i)\n",
    "    dt3.fit(xtrain,ytrain)\n",
    "    ypred=dt3.predict(xtest)\n",
    "    \n",
    "    rs=r2_score(ytest,ypred)\n",
    "    \n",
    "    print(f\"min_samples_split {i}  r2_score {rs}\")"
   ]
  },
  {
   "cell_type": "code",
   "execution_count": 81,
   "id": "e0f9bb0e",
   "metadata": {},
   "outputs": [
    {
     "name": "stdout",
     "output_type": "stream",
     "text": [
      "0.9258192165755191\n"
     ]
    }
   ],
   "source": [
    "dt4=DecisionTreeRegressor(min_samples_split=4)\n",
    "mymodel(dt4)"
   ]
  },
  {
   "cell_type": "code",
   "execution_count": 82,
   "id": "a44805fe",
   "metadata": {},
   "outputs": [
    {
     "data": {
      "text/plain": [
       "0.9998043818466353"
      ]
     },
     "execution_count": 82,
     "metadata": {},
     "output_type": "execute_result"
    }
   ],
   "source": [
    "dt4.score(xtrain,ytrain)"
   ]
  },
  {
   "cell_type": "code",
   "execution_count": 83,
   "id": "59f50c5f",
   "metadata": {},
   "outputs": [
    {
     "data": {
      "text/plain": [
       "0.9258192165755191"
      ]
     },
     "execution_count": 83,
     "metadata": {},
     "output_type": "execute_result"
    }
   ],
   "source": [
    "dt4.score(xtest,ytest)"
   ]
  },
  {
   "cell_type": "markdown",
   "id": "e360f520",
   "metadata": {},
   "source": [
    "### By using Decision Tree Min Sample Split function we achive the accuracy of 92%"
   ]
  },
  {
   "cell_type": "markdown",
   "id": "08995f58",
   "metadata": {},
   "source": [
    "### iii - min_samples_leaf"
   ]
  },
  {
   "cell_type": "code",
   "execution_count": 84,
   "id": "6183fbde",
   "metadata": {},
   "outputs": [
    {
     "name": "stdout",
     "output_type": "stream",
     "text": [
      "min_samples_split 1  r2_score 0.9262562167724233\n",
      "min_samples_split 2  r2_score 0.9216130896803166\n",
      "min_samples_split 3  r2_score 0.9175649794058697\n",
      "min_samples_split 4  r2_score 0.8870970235792074\n",
      "min_samples_split 5  r2_score 0.8819138347546007\n",
      "min_samples_split 6  r2_score 0.889114516785251\n",
      "min_samples_split 7  r2_score 0.9004761080365881\n",
      "min_samples_split 8  r2_score 0.89089216504368\n",
      "min_samples_split 9  r2_score 0.899874830744305\n",
      "min_samples_split 10  r2_score 0.8204872244510443\n",
      "min_samples_split 11  r2_score 0.8188713832495687\n",
      "min_samples_split 12  r2_score 0.8193264209164622\n",
      "min_samples_split 13  r2_score 0.8152907292942498\n",
      "min_samples_split 14  r2_score 0.8848245137245819\n",
      "min_samples_split 15  r2_score 0.8848245137245819\n",
      "min_samples_split 16  r2_score 0.8848245137245819\n",
      "min_samples_split 17  r2_score 0.8840535997540064\n",
      "min_samples_split 18  r2_score 0.8844946322479986\n",
      "min_samples_split 19  r2_score 0.8865701814288165\n",
      "min_samples_split 20  r2_score 0.8865701814288165\n",
      "min_samples_split 21  r2_score 0.8865701814288165\n",
      "min_samples_split 22  r2_score 0.8865701814288165\n",
      "min_samples_split 23  r2_score 0.8766512127173651\n",
      "min_samples_split 24  r2_score 0.8766512127173651\n",
      "min_samples_split 25  r2_score 0.8618848140761036\n",
      "min_samples_split 26  r2_score 0.8629109775994668\n",
      "min_samples_split 27  r2_score 0.863640382975392\n",
      "min_samples_split 28  r2_score 0.863640382975392\n",
      "min_samples_split 29  r2_score 0.863640382975392\n",
      "min_samples_split 30  r2_score 0.863640382975392\n",
      "min_samples_split 31  r2_score 0.863640382975392\n",
      "min_samples_split 32  r2_score 0.863640382975392\n",
      "min_samples_split 33  r2_score 0.868775188488507\n",
      "min_samples_split 34  r2_score 0.807916493912352\n",
      "min_samples_split 35  r2_score 0.807916493912352\n",
      "min_samples_split 36  r2_score 0.8064843600885955\n",
      "min_samples_split 37  r2_score 0.8064843600885955\n",
      "min_samples_split 38  r2_score 0.8064843600885955\n",
      "min_samples_split 39  r2_score 0.8262485573775701\n",
      "min_samples_split 40  r2_score 0.8154319293536407\n",
      "min_samples_split 41  r2_score 0.8154319293536407\n",
      "min_samples_split 42  r2_score 0.8154319293536407\n",
      "min_samples_split 43  r2_score 0.8014665729743661\n",
      "min_samples_split 44  r2_score 0.714506794420761\n",
      "min_samples_split 45  r2_score 0.714506794420761\n",
      "min_samples_split 46  r2_score 0.714506794420761\n",
      "min_samples_split 47  r2_score 0.714506794420761\n",
      "min_samples_split 48  r2_score 0.714506794420761\n",
      "min_samples_split 49  r2_score 0.714506794420761\n"
     ]
    }
   ],
   "source": [
    "for i in range(1,50):\n",
    "    dt5= DecisionTreeRegressor(min_samples_leaf=i)\n",
    "    dt5.fit(xtrain,ytrain)\n",
    "    ypred=dt5.predict(xtest)\n",
    "    \n",
    "    rs=r2_score(ytest,ypred)\n",
    "    \n",
    "    print(f\"min_samples_split {i}  r2_score {rs}\")"
   ]
  },
  {
   "cell_type": "code",
   "execution_count": 85,
   "id": "b0e5f23c",
   "metadata": {},
   "outputs": [
    {
     "name": "stdout",
     "output_type": "stream",
     "text": [
      "0.8819138347546007\n"
     ]
    }
   ],
   "source": [
    "dt6=DecisionTreeRegressor(min_samples_leaf=5)\n",
    "mymodel(dt6)"
   ]
  },
  {
   "cell_type": "code",
   "execution_count": 86,
   "id": "3485c9cb",
   "metadata": {},
   "outputs": [
    {
     "data": {
      "text/plain": [
       "0.9501848845598846"
      ]
     },
     "execution_count": 86,
     "metadata": {},
     "output_type": "execute_result"
    }
   ],
   "source": [
    "dt6.score(xtrain,ytrain)"
   ]
  },
  {
   "cell_type": "code",
   "execution_count": 87,
   "id": "e085fee7",
   "metadata": {},
   "outputs": [
    {
     "data": {
      "text/plain": [
       "0.8819138347546007"
      ]
     },
     "execution_count": 87,
     "metadata": {},
     "output_type": "execute_result"
    }
   ],
   "source": [
    "dt6.score(xtest,ytest)"
   ]
  },
  {
   "cell_type": "markdown",
   "id": "0fcbf172",
   "metadata": {},
   "source": [
    "### By using Decision Tree min_samples_leaf function we achive the accuracy of 88%"
   ]
  },
  {
   "cell_type": "markdown",
   "id": "0fef1785",
   "metadata": {},
   "source": [
    "## 3 - Predicting the data using Random Forest"
   ]
  },
  {
   "cell_type": "code",
   "execution_count": 88,
   "id": "385d392e",
   "metadata": {},
   "outputs": [],
   "source": [
    "from sklearn.ensemble import RandomForestRegressor\n",
    "from sklearn.model_selection import train_test_split\n",
    "rfr = RandomForestRegressor(n_estimators=100, max_depth=5)\n",
    "\n",
    "rfr.fit(xtrain, ytrain)\n",
    "ypred = rfr.predict(xtest)"
   ]
  },
  {
   "cell_type": "code",
   "execution_count": 89,
   "id": "65c81a98",
   "metadata": {},
   "outputs": [
    {
     "name": "stdout",
     "output_type": "stream",
     "text": [
      "MSE: 0.7670912978477897\n",
      "MAE: 0.29309354030108176\n",
      "r2_score: 0.9351351141727291\n"
     ]
    }
   ],
   "source": [
    "from sklearn.metrics import mean_squared_error, mean_absolute_error, r2_score\n",
    "\n",
    "print('MSE:', mean_squared_error(ytest, ypred))\n",
    "print('MAE:', mean_absolute_error(ytest, ypred))\n",
    "print('r2_score:', r2_score(ytest, ypred))"
   ]
  },
  {
   "cell_type": "markdown",
   "id": "f9b4a227",
   "metadata": {},
   "source": [
    "### By using Random Forest we get 93% of accuracy."
   ]
  },
  {
   "cell_type": "code",
   "execution_count": 90,
   "id": "3f4056ce",
   "metadata": {},
   "outputs": [
    {
     "name": "stdout",
     "output_type": "stream",
     "text": [
      "*****************************************************************************************************************************\n",
      "\tBased on the above accuracy scores, we should go ahead with Linear regression, Random forest. The best predictive model for the above dataset is Linear regressoin and its Accuracy is given by accuracy 97%. \n",
      "*****************************************************************************************************************************\n"
     ]
    }
   ],
   "source": [
    "print((\"*\")*125)\n",
    "print(\"\\tBased on the above accuracy scores, we should go ahead with Linear regression, Random forest. The best predictive model for the above dataset is Linear regressoin and its Accuracy is given by accuracy 97%. \")\n",
    "print((\"*\")*125)"
   ]
  },
  {
   "cell_type": "code",
   "execution_count": null,
   "id": "2d162664",
   "metadata": {},
   "outputs": [],
   "source": []
  }
 ],
 "metadata": {
  "kernelspec": {
   "display_name": "Python 3 (ipykernel)",
   "language": "python",
   "name": "python3"
  },
  "language_info": {
   "codemirror_mode": {
    "name": "ipython",
    "version": 3
   },
   "file_extension": ".py",
   "mimetype": "text/x-python",
   "name": "python",
   "nbconvert_exporter": "python",
   "pygments_lexer": "ipython3",
   "version": "3.10.9"
  }
 },
 "nbformat": 4,
 "nbformat_minor": 5
}
